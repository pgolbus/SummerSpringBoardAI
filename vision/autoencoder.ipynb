{
 "cells": [
  {
   "cell_type": "code",
   "execution_count": 1,
   "metadata": {
    "id": "SFYnd2IY8gNH"
   },
   "outputs": [],
   "source": [
    "import numpy as np\n",
    "import keras\n",
    "from keras.datasets import fashion_mnist\n",
    "from keras.models import Model\n",
    "from keras.layers import Input, Dense, Reshape, Flatten, Conv2D, Conv2DTranspose\n",
    "import matplotlib.pyplot as plt"
   ]
  },
  {
   "cell_type": "code",
   "execution_count": 2,
   "metadata": {
    "colab": {
     "base_uri": "https://localhost:8080/"
    },
    "id": "gZ5_kxoQ8mcq",
    "outputId": "faa46f8d-0221-468d-a9a5-5c822d93f6b1"
   },
   "outputs": [
    {
     "name": "stdout",
     "output_type": "stream",
     "text": [
      "Downloading data from https://storage.googleapis.com/tensorflow/tf-keras-datasets/train-labels-idx1-ubyte.gz\n",
      "29515/29515 [==============================] - 0s 0us/step\n",
      "Downloading data from https://storage.googleapis.com/tensorflow/tf-keras-datasets/train-images-idx3-ubyte.gz\n",
      "26421880/26421880 [==============================] - 0s 0us/step\n",
      "Downloading data from https://storage.googleapis.com/tensorflow/tf-keras-datasets/t10k-labels-idx1-ubyte.gz\n",
      "5148/5148 [==============================] - 0s 0us/step\n",
      "Downloading data from https://storage.googleapis.com/tensorflow/tf-keras-datasets/t10k-images-idx3-ubyte.gz\n",
      "4422102/4422102 [==============================] - 0s 0us/step\n"
     ]
    }
   ],
   "source": [
    "# Load the Fashion-MNIST dataset\n",
    "(x_train, y_train), (x_test, y_test) = fashion_mnist.load_data()\n",
    "\n",
    "# Preprocess the data\n",
    "x_train = x_train.astype('float32') / 255.0\n",
    "x_test = x_test.astype('float32') / 255.0\n",
    "x_train = np.expand_dims(x_train, axis=-1)\n",
    "x_test = np.expand_dims(x_test, axis=-1)\n",
    "\n",
    "# Define and train the autoencoder model\n",
    "input_shape = (28, 28, 1)\n",
    "latent_dim = 64"
   ]
  },
  {
   "cell_type": "code",
   "execution_count": 3,
   "metadata": {
    "id": "Ev_26zyJ8rIf"
   },
   "outputs": [],
   "source": [
    "# Encoder\n",
    "encoder_input = Input(shape=input_shape)\n",
    "encoder_output = Conv2D(32, (3, 3), activation='relu', padding='same')(encoder_input)\n",
    "encoder_output = Conv2D(64, (3, 3), activation='relu', padding='same')(encoder_output)\n",
    "encoder_output = Conv2D(128, (3, 3), activation='relu', padding='same')(encoder_output)\n",
    "encoder_output = Flatten()(encoder_output)\n",
    "encoder_output = Dense(latent_dim, activation='relu')(encoder_output)"
   ]
  },
  {
   "cell_type": "code",
   "execution_count": 4,
   "metadata": {
    "id": "kfIR7cAa8tl6"
   },
   "outputs": [],
   "source": [
    "# Decoder\n",
    "decoder_input = Input(shape=(latent_dim,))\n",
    "decoder_output = Dense(6272, activation='relu')(decoder_input)\n",
    "decoder_output = Reshape((7, 7, 128))(decoder_output)\n",
    "decoder_output = Conv2DTranspose(64, (3, 3), strides=(2, 2), activation='relu', padding='same')(decoder_output)\n",
    "decoder_output = Conv2DTranspose(32, (3, 3), strides=(2, 2), activation='relu', padding='same')(decoder_output)\n",
    "decoder_output = Conv2DTranspose(1, (3, 3), activation='sigmoid', padding='same')(decoder_output)"
   ]
  },
  {
   "cell_type": "code",
   "execution_count": 5,
   "metadata": {
    "id": "CwhAnEwR9Odn"
   },
   "outputs": [],
   "source": [
    "# Create encoder model\n",
    "encoder = Model(encoder_input, encoder_output)\n",
    "\n",
    "# Create decoder model\n",
    "decoder = Model(decoder_input, decoder_output)"
   ]
  },
  {
   "cell_type": "code",
   "execution_count": 6,
   "metadata": {
    "id": "tdvJKMKv8wKO"
   },
   "outputs": [],
   "source": [
    "# Create autoencoder model by connecting encoder and decoder\n",
    "autoencoder_input = Input(shape=input_shape)\n",
    "autoencoder_output = decoder(encoder(autoencoder_input))\n",
    "autoencoder = Model(autoencoder_input, autoencoder_output)"
   ]
  },
  {
   "cell_type": "code",
   "execution_count": 7,
   "metadata": {
    "colab": {
     "base_uri": "https://localhost:8080/"
    },
    "id": "I_wxM2zA9bos",
    "outputId": "cef36bbe-a464-4f69-8e77-b4cba31cc5fc"
   },
   "outputs": [
    {
     "name": "stdout",
     "output_type": "stream",
     "text": [
      "Model: \"model_2\"\n",
      "_________________________________________________________________\n",
      " Layer (type)                Output Shape              Param #   \n",
      "=================================================================\n",
      " input_3 (InputLayer)        [(None, 28, 28, 1)]       0         \n",
      "                                                                 \n",
      " model (Functional)          (None, 64)                6515264   \n",
      "                                                                 \n",
      " model_1 (Functional)        (None, 28, 28, 1)         500225    \n",
      "                                                                 \n",
      "=================================================================\n",
      "Total params: 7,015,489\n",
      "Trainable params: 7,015,489\n",
      "Non-trainable params: 0\n",
      "_________________________________________________________________\n"
     ]
    }
   ],
   "source": [
    "autoencoder.compile(optimizer='adam', loss='binary_crossentropy')\n",
    "autoencoder.summary()"
   ]
  },
  {
   "cell_type": "code",
   "execution_count": 8,
   "metadata": {
    "colab": {
     "base_uri": "https://localhost:8080/"
    },
    "id": "yEzJiKUO8zJQ",
    "outputId": "77257600-dffb-4330-80df-7d5329312e54"
   },
   "outputs": [
    {
     "name": "stdout",
     "output_type": "stream",
     "text": [
      "Epoch 1/10\n",
      "469/469 [==============================] - 1078s 2s/step - loss: 0.3119 - val_loss: 0.2786\n",
      "Epoch 2/10\n",
      "469/469 [==============================] - 1034s 2s/step - loss: 0.2719 - val_loss: 0.2702\n",
      "Epoch 3/10\n",
      "469/469 [==============================] - 1063s 2s/step - loss: 0.2662 - val_loss: 0.2666\n",
      "Epoch 4/10\n",
      "469/469 [==============================] - 1019s 2s/step - loss: 0.2636 - val_loss: 0.2648\n",
      "Epoch 5/10\n",
      "469/469 [==============================] - 1054s 2s/step - loss: 0.2619 - val_loss: 0.2635\n",
      "Epoch 6/10\n",
      "469/469 [==============================] - 1013s 2s/step - loss: 0.2607 - val_loss: 0.2628\n",
      "Epoch 7/10\n",
      "469/469 [==============================] - 1012s 2s/step - loss: 0.2600 - val_loss: 0.2624\n",
      "Epoch 8/10\n",
      "469/469 [==============================] - 1013s 2s/step - loss: 0.2593 - val_loss: 0.2620\n",
      "Epoch 9/10\n",
      "469/469 [==============================] - 1055s 2s/step - loss: 0.2588 - val_loss: 0.2612\n",
      "Epoch 10/10\n",
      "469/469 [==============================] - 1049s 2s/step - loss: 0.2583 - val_loss: 0.2606\n"
     ]
    },
    {
     "data": {
      "text/plain": [
       "<keras.callbacks.History at 0x7900ed461120>"
      ]
     },
     "execution_count": 8,
     "metadata": {},
     "output_type": "execute_result"
    }
   ],
   "source": [
    "autoencoder.fit(x_train, x_train, epochs=10, batch_size=128, validation_data=(x_test, x_test))"
   ]
  },
  {
   "cell_type": "code",
   "execution_count": 9,
   "metadata": {
    "colab": {
     "base_uri": "https://localhost:8080/"
    },
    "id": "Oa_-ZAim80xr",
    "outputId": "37ae4de7-dfd5-40e1-e641-d41ed9d6c851"
   },
   "outputs": [
    {
     "name": "stdout",
     "output_type": "stream",
     "text": [
      "313/313 [==============================] - 46s 147ms/step\n"
     ]
    }
   ],
   "source": [
    "# Use the trained autoencoder to encode and decode the test images\n",
    "decoded_images = autoencoder.predict(x_test)"
   ]
  },
  {
   "cell_type": "markdown",
   "metadata": {
    "id": "Extx0tmpvKKt"
   },
   "source": []
  },
  {
   "cell_type": "code",
   "execution_count": 10,
   "metadata": {
    "colab": {
     "base_uri": "https://localhost:8080/",
     "height": 292
    },
    "id": "bqhfmohC82OE",
    "outputId": "5e4cad6e-34b1-446c-9d50-03a81e09ea02"
   },
   "outputs": [
    {
     "data": {
      "image/png": "[encoded data removed]",
      "text/plain": [
       "<Figure size 2000x400 with 20 Axes>"
      ]
     },
     "metadata": {},
     "output_type": "display_data"
    }
   ],
   "source": [
    "# Plot the input and nearby output images\n",
    "n = 10  # Number of images to plot\n",
    "plt.figure(figsize=(20, 4))\n",
    "\n",
    "for i in range(n):\n",
    "    # Plotting input images\n",
    "    ax = plt.subplot(2, n, i + 1)\n",
    "    plt.imshow(x_test[i].reshape(28, 28), cmap='gray')\n",
    "    plt.title('Input')\n",
    "    ax.get_xaxis().set_visible(False)\n",
    "    ax.get_yaxis().set_visible(False)\n",
    "\n",
    "    # Plotting output images\n",
    "    ax = plt.subplot(2, n, i + 1 + n)\n",
    "    plt.imshow(decoded_images[i].reshape(28, 28), cmap='gray')\n",
    "    plt.title('Output')\n",
    "    ax.get_xaxis().set_visible(False)\n",
    "    ax.get_yaxis().set_visible(False)\n",
    "\n",
    "plt.tight_layout()\n",
    "plt.show()"
   ]
  },
  {
   "cell_type": "markdown",
   "metadata": {},
   "source": [
    "# Meh\n",
    "\n",
    "You get what you pay for. It's a tiny network that trained in 3 hours"
   ]
  }
 ],
 "metadata": {
  "accelerator": "TPU",
  "colab": {
   "provenance": []
  },
  "kernelspec": {
   "display_name": "Python 3 (ipykernel)",
   "language": "python",
   "name": "python3"
  },
  "language_info": {
   "codemirror_mode": {
    "name": "ipython",
    "version": 3
   },
   "file_extension": ".py",
   "mimetype": "text/x-python",
   "name": "python",
   "nbconvert_exporter": "python",
   "pygments_lexer": "ipython3",
   "version": "3.8.0"
  }
 },
 "nbformat": 4,
 "nbformat_minor": 4
}
