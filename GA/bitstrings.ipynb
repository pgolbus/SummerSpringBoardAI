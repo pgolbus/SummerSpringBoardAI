{
 "cells": [
  {
   "cell_type": "code",
   "execution_count": 1,
   "id": "c27f68e9-3890-4a7f-a1c3-e7ad2b6f5cae",
   "metadata": {},
   "outputs": [],
   "source": [
    "import random\n",
    "\n",
    "from matplotlib import pyplot as plt\n",
    "\n",
    "from ga import GA"
   ]
  },
  {
   "attachments": {},
   "cell_type": "markdown",
   "id": "9ac1be63",
   "metadata": {},
   "source": [
    "### Genetic Algorithm to find a bitstrong of all 1s\n",
    "\n",
    "You can find the [genetic algorithm base class here](https://golb.us/SummerSpringboard/GA/ga.py).\n",
    "\n",
    "To adopt it to our specific problem, we need to implement\n",
    "\n",
    "  1. A method for generating new members of the population\n",
    "  2. A fitness function"
   ]
  },
  {
   "cell_type": "code",
   "execution_count": 2,
   "id": "87cb78ed-f09c-458c-aeb1-bad4daec1d91",
   "metadata": {},
   "outputs": [],
   "source": [
    "class BitstringGA(GA):\n",
    "\n",
    "    def __init__(self, generations, population_size, length, **kwargs):\n",
    "        super().__init__(generations, population_size, **kwargs)\n",
    "        self.length = length\n",
    "\n",
    "    def generate(self, **kwargs):\n",
    "        return [1 if random.random() < 0.5 else 0 for _ in range(self.length)]\n",
    "\n",
    "    def calculate_fitness(self, bitstring, **kwargs):\n",
    "        return sum(bitstring)"
   ]
  },
  {
   "cell_type": "markdown",
   "id": "0d8a3876-466f-4606-950d-1abfa131f2c2",
   "metadata": {},
   "source": [
    "### Parameters of a Genetic Algorithm\n",
    "\n",
    "Genetic Algorithms have several parameters, within each generation we need to know the\n",
    "  * Size of the population\n",
    "  * The probability of a bit getting flipped while mutating\n",
    "  * The probability of a pair of individuals choosing to cross over\n",
    "\n",
    "We also need to know the number of generations to breed before declaring we have the best candidate.\n",
    "\n",
    "For this problem, we also need to know the length of the string."
   ]
  },
  {
   "cell_type": "code",
   "execution_count": 3,
   "id": "f0236f11-2719-4df7-ac41-3aa118418db3",
   "metadata": {},
   "outputs": [],
   "source": [
    "# Genetic Algorithm parameters\n",
    "POPULATION_SIZE = 100\n",
    "MUTATION_RATE = 0.01\n",
    "CROSSOVER_RATE = 0.7\n",
    "GENERATIONS = 1000\n",
    "\n",
    "# bitstring parameters\n",
    "LENGTH = 16"
   ]
  },
  {
   "cell_type": "markdown",
   "id": "9d5c7057-856a-4176-b049-8276f80c620b",
   "metadata": {},
   "source": [
    "### Let's find some strings consisting of all 1s!\n",
    "\n",
    "We'll define a simple function that uses matplotlib (we'll say a lot more about this later) to plot how the fitness score goes up over time and plot some runs."
   ]
  },
  {
   "cell_type": "code",
   "execution_count": 10,
   "id": "f49731e2-7f35-4e95-952d-4b09580058ee",
   "metadata": {},
   "outputs": [],
   "source": [
    "def fitness_plots(ga_runner, plots=5):\n",
    "    \"\"\"Generate plots showing how fitness changes over time\"\"\"\n",
    "    \n",
    "    for i in range(plots):\n",
    "        scores = ga_runner.select(CROSSOVER_RATE, MUTATION_RATE, success_score=LENGTH)\n",
    "        plt.plot(scores)\n",
    "        plt.ylim(0,LENGTH+4)\n",
    "        max_score = scores[-1]\n",
    "        if max_score == LENGTH:\n",
    "            plt.title(f\"\\nSolution found in generation {len(scores)}\")\n",
    "        else:\n",
    "            plt.title(f\"\\nSolution not found. Max score: {max_score}\")\n",
    "        plt.show()\n",
    "        if i != PLOT - 1:\n",
    "            print(\"\\n\\n-----------------------------------------------------------------------------------\")"
   ]
  },
  {
   "cell_type": "code",
   "execution_count": null,
   "id": "adf7746e-5d93-406e-90d5-daa31aa543c0",
   "metadata": {},
   "outputs": [],
   "source": [
    "ga_runner = BitstringGA(GENERATIONS, POPULATION_SIZE, LENGTH)\n",
    "fitness_plots(ga_runner)"
   ]
  }
 ],
 "metadata": {
  "kernelspec": {
   "display_name": "Python 3 (ipykernel)",
   "language": "python",
   "name": "python3"
  },
  "language_info": {
   "codemirror_mode": {
    "name": "ipython",
    "version": 3
   },
   "file_extension": ".py",
   "mimetype": "text/x-python",
   "name": "python",
   "nbconvert_exporter": "python",
   "pygments_lexer": "ipython3",
   "version": "3.8.0"
  }
 },
 "nbformat": 4,
 "nbformat_minor": 5
}
