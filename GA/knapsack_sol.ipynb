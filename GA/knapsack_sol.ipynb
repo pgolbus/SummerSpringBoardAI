{
 "cells": [
  {
   "cell_type": "code",
   "execution_count": null,
   "id": "4ad7471a-6e90-4401-acec-85d2bd9415e9",
   "metadata": {},
   "outputs": [],
   "source": [
    "import random\n",
    "\n",
    "import numpy as np\n",
    "\n",
    "from ga import GA"
   ]
  },
  {
   "cell_type": "markdown",
   "id": "c1a9c358-b1bc-40f1-b63a-0086d5a8090c",
   "metadata": {},
   "source": [
    "# Your task\n",
    "\n",
    "Your task is to implement the calculate fitness function in the KnapsackGA class. Once you've done that, try various values for crossover and mutation using the provided `main` function. Set one or both to zero, one to a high number the other to a low number, etc.\n",
    "\n",
    "Do that several times. Which do you think had a bigger impact on the final result?"
   ]
  },
  {
   "cell_type": "code",
   "execution_count": null,
   "id": "08eb8180-0c08-464e-8447-8d29f9483fd9",
   "metadata": {},
   "outputs": [],
   "source": [
    "class KnapsackGA(GA):\n",
    "\n",
    "    def __init__(self, population_size, generations, knapsack, max_weight, **kwargs):\n",
    "        super().__init__(population_size, generations, **kwargs)\n",
    "        self.knapsack = knapsack\n",
    "        self.max_weight = max_weight\n",
    "\n",
    "    # Function to generate a random bitstring\n",
    "    def generate(self, **kwargs):\n",
    "        return [random.choice([0, 1]) for _ in range(len(self.knapsack))]\n",
    "\n",
    "    # Function to calculate the fitness of a bitstring\n",
    "    def calculate_fitness(self, bitstring, **kwargs):\n",
    "        total_weight = 0\n",
    "        total_value = 0\n",
    "        # Remeber that a bitstring is a list of 1s and 0s. If the elt at index i is a 1, then the ith item is in the knapsack\n",
    "        # Remember that a knapsack is a list of [[weight, value]] pairs\n",
    "        # so self.knapsack[i][0] is the weight of the ith item and self.knapsack[i][1] is it's value\n",
    "        # We need to loop over the items in the knapsack, and if the bitstring says they're included, we need to add their weight and value\n",
    "        # if the backpack is light enough, then the total value is the fitness score of this bitstring\n",
    "        # if the backpack is too heavy, then the fitness is 0\n",
    "        for i in range(len(self.knapsack)):\n",
    "            if bitstring[i] == 1:\n",
    "                total_weight += self.knapsack[i][0]\n",
    "                total_value += self.knapsack[i][1]\n",
    "        # remember that if it's too heavy, it cannot \"survive\"\n",
    "        if total_weight > self.max_weight:\n",
    "            total_value = 0  # Exclude solutions exceeding the weight limit\n",
    "        return total_value"
   ]
  },
  {
   "cell_type": "code",
   "execution_count": null,
   "id": "153df191-77ec-49bc-868a-796b87f35387",
   "metadata": {},
   "outputs": [],
   "source": [
    "POPULATION_SIZE = 10\n",
    "KNAPSACK_SIZE = 100\n",
    "MIN_ITEM_WEIGHT = 1\n",
    "MAX_ITEM_WEIGHT = 10\n",
    "MIN_ITEM_VALUE = 9\n",
    "MAX_ITEM_VALUE = 99\n",
    "MAX_WEIGHT = 500\n",
    "GENERATIONS = 25\n",
    "RUNS = 100"
   ]
  },
  {
   "cell_type": "code",
   "execution_count": null,
   "id": "5b91523f-0423-442e-ad76-a0b10f3ec74c",
   "metadata": {},
   "outputs": [],
   "source": [
    "def generate_knapsack(knapsack_size, minweight, maxweight, minvalue, maxvalue):\n",
    "    knapsack = []\n",
    "    for _ in range(knapsack_size):\n",
    "        weight = random.randint(minweight, maxweight)\n",
    "        value = random.randint(minvalue, maxvalue)\n",
    "        knapsack.append((weight, value))\n",
    "    return knapsack"
   ]
  },
  {
   "cell_type": "code",
   "execution_count": null,
   "id": "127079a1-95cd-49b4-8118-3565d6d682ed",
   "metadata": {},
   "outputs": [],
   "source": [
    "knapsack = generate_knapsack(KNAPSACK_SIZE, MIN_ITEM_WEIGHT, MAX_ITEM_WEIGHT, MIN_ITEM_VALUE, MAX_ITEM_VALUE)\n",
    "print(knapsack)"
   ]
  },
  {
   "cell_type": "code",
   "execution_count": null,
   "id": "e5fe1726-2d2d-46c1-92ce-ebeea41f06e0",
   "metadata": {},
   "outputs": [],
   "source": [
    "runner = KnapsackGA(POPULATION_SIZE, GENERATIONS, knapsack, MAX_WEIGHT)"
   ]
  },
  {
   "cell_type": "code",
   "execution_count": null,
   "id": "e4f894e8-694b-4fa1-8035-b5614ef8b382",
   "metadata": {},
   "outputs": [],
   "source": [
    "def main(crossover_rate=0.7, mutation_rate=0.1):\n",
    "    # this is our first list comprehension. List comprehensions are \"syntactic sugar\"\n",
    "    # they don't do anything you couldn't have done anyway, they're just more convenient\n",
    "    # in this case, they're also implemented more efficiently.\n",
    "    #     result = []\n",
    "    #     for elt in a_list:\n",
    "    #         result.append(func(elt))\n",
    "    # can be rewritten in one line via a list comprehension\n",
    "    #     result = [func(elt) for elt in a_list]\n",
    "    # in both cases, the result is a list\n",
    "    results = [runner.select(crossover_rate, mutation_rate) for _ in range(RUNS)]\n",
    "    print(f\"Crossover Rate: {crossover_rate * 100}% Mutation Rate: {mutation_rate * 100}% Fitness: {np.mean(results):0.2f}\")"
   ]
  },
  {
   "cell_type": "code",
   "execution_count": null,
   "id": "246db949-6951-4202-84b3-bbab49291df6",
   "metadata": {},
   "outputs": [],
   "source": [
    "main()"
   ]
  }
 ],
 "metadata": {
  "kernelspec": {
   "display_name": "Python 3 (ipykernel)",
   "language": "python",
   "name": "python3"
  },
  "language_info": {
   "codemirror_mode": {
    "name": "ipython",
    "version": 3
   },
   "file_extension": ".py",
   "mimetype": "text/x-python",
   "name": "python",
   "nbconvert_exporter": "python",
   "pygments_lexer": "ipython3",
   "version": "3.8.0"
  }
 },
 "nbformat": 4,
 "nbformat_minor": 5
}
