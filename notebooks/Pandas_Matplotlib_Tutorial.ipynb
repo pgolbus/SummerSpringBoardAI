{
  "notebook_name": "Pandas_Matplotlib_Tutorial.ipynb"
}

{
  "cell": {
    "id": "465275c0-f3d3-477f-92e2-8670c7a50ac6",
    "source": "# Pandas and Matplotlib Tutorial\n\nIn this notebook, we will learn how to use pandas to read a CSV file and matplotlib to create a scatterplot of two of the columns.\n\n## Libraries\n\n- **Pandas**: A software library written for the Python programming language for data manipulation and analysis. In particular, it offers data structures and operations for manipulating numerical tables and time series.\n- **Matplotlib**: A plotting library for the Python programming language and its numerical mathematics extension NumPy. It provides an object-oriented API for embedding plots into applications using general-purpose GUI toolkits like Tkinter, wxPython, Qt, or GTK.",
    "cell_type": "markdown"
  },
  "cell_link": "https://app.noteable.io/f/0247e61d-3316-41d9-8cb8-cbe89b4d8249/?cellID=465275c0-f3d3-477f-92e2-8670c7a50ac6",
  "cell_state": null,
  "kernel_state": "runtime-container-started",
  "kernel_state_description": "After a runtime container's resources are pulled the container will be started, this state may be sent more than once and cycle between this state and pulling-runtime-resources.",
  "assistant_hint": "The cell was created successfully"
}

{
  "cell": {
    "id": "22339aa6-efa9-4042-9bcb-b71b44c52181",
    "source": "# Importing required libraries\nimport pandas as pd\nimport matplotlib.pyplot as plt",
    "metadata": {
      "noteable": {
        "cell_type": "code"
      }
    },
    "cell_type": "code",
    "outputs": []
  },
  "cell_link": "https://app.noteable.io/f/0247e61d-3316-41d9-8cb8-cbe89b4d8249/?cellID=22339aa6-efa9-4042-9bcb-b71b44c52181",
  "cell_state": "not_run",
  "kernel_state": "idle",
  "kernel_state_description": "Kernel is ready for input",
  "assistant_hint": "The cell was created successfully"
}

{
  "cell": {
    "id": "d710271d-1ea1-4c09-84f8-56f3ce60754b",
    "source": "## Creating a Dummy CSV File\n\nBefore we can read a CSV file, we need to have one. For this tutorial, we will create a dummy CSV file with pandas. The CSV file will have three columns: `A`, `B`, and `C`.",
    "cell_type": "markdown"
  },
  "cell_link": "https://app.noteable.io/f/0247e61d-3316-41d9-8cb8-cbe89b4d8249/?cellID=d710271d-1ea1-4c09-84f8-56f3ce60754b",
  "cell_state": null,
  "kernel_state": "idle",
  "kernel_state_description": "Kernel is ready for input",
  "assistant_hint": "The cell was created successfully"
}

{
  "cell": {
    "id": "c98a7844-36ee-4513-8bed-10b4eae71378",
    "source": "# Creating a dataframe\ndf = pd.DataFrame({\n    'A': range(1, 101),\n    'B': range(101, 1, -1),\n    'C': range(50, 150)\n})\n\n# Writing dataframe to CSV\ndf.to_csv('dummy.csv', index=False)",
    "metadata": {
      "noteable": {
        "cell_type": "code"
      }
    },
    "cell_type": "code",
    "outputs": []
  },
  "cell_link": "https://app.noteable.io/f/0247e61d-3316-41d9-8cb8-cbe89b4d8249/?cellID=c98a7844-36ee-4513-8bed-10b4eae71378",
  "cell_state": "not_run",
  "kernel_state": "idle",
  "kernel_state_description": "Kernel is ready for input",
  "assistant_hint": "The cell was created successfully"
}

{
  "cell": {
    "id": "02ce66f1-d00b-4519-820f-9ff53526dfca",
    "source": "## Reading a CSV File\n\nNow that we have a CSV file, we can read it using pandas. The `read_csv` function in pandas is used to read CSV files.",
    "cell_type": "markdown"
  },
  "cell_link": "https://app.noteable.io/f/0247e61d-3316-41d9-8cb8-cbe89b4d8249/?cellID=02ce66f1-d00b-4519-820f-9ff53526dfca",
  "cell_state": null,
  "kernel_state": "idle",
  "kernel_state_description": "Kernel is ready for input",
  "assistant_hint": "The cell was created successfully"
}

{
  "cell": {
    "id": "9311a0bf-e625-4cc1-86d6-f1f4b070ff32",
    "source": "# Reading CSV file\ndf = pd.read_csv('dummy.csv')\ndf.head()",
    "metadata": {
      "noteable": {
        "cell_type": "code"
      }
    },
    "cell_type": "code",
    "outputs": []
  },
  "cell_link": "https://app.noteable.io/f/0247e61d-3316-41d9-8cb8-cbe89b4d8249/?cellID=9311a0bf-e625-4cc1-86d6-f1f4b070ff32",
  "cell_state": "not_run",
  "kernel_state": "idle",
  "kernel_state_description": "Kernel is ready for input",
  "assistant_hint": "The cell was created successfully"
}

{
  "cell": {
    "id": "11df086e-7ebe-495d-b9c0-f2e845794a46",
    "source": "## Creating a Scatterplot\n\nWe can create a scatterplot of two columns using matplotlib. For this tutorial, we will create a scatterplot of columns `A` and `B`.",
    "cell_type": "markdown"
  },
  "cell_link": "https://app.noteable.io/f/0247e61d-3316-41d9-8cb8-cbe89b4d8249/?cellID=11df086e-7ebe-495d-b9c0-f2e845794a46",
  "cell_state": null,
  "kernel_state": "idle",
  "kernel_state_description": "Kernel is ready for input",
  "assistant_hint": "The cell was created successfully"
}

RESPONSE FROM NOTEABLE
{
  "cell": {
    "id": "22f3202d-3634-4376-8bc5-927372e40bf4",
    "source": "# Creating a scatterplot\nplt.scatter(df['A'], df['B'])\nplt.title('Scatterplot of A and B')\nplt.xlabel('A')\nplt.ylabel('B')\nplt.show()",
    "metadata": {
      "noteable": {
        "cell_type": "code"
      }
    },
    "cell_type": "code",
    "outputs": []
  },
  "cell_link": "https://app.noteable.io/f/0247e61d-3316-41d9-8cb8-cbe89b4d8249/?cellID=22f3202d-3634-4376-8bc5-927372e40bf4",
  "cell_state": "not_run",
  "kernel_state": "idle",
  "kernel_state_description": "Kernel is ready for input",
  "assistant_hint": "The cell was created successfully"
}