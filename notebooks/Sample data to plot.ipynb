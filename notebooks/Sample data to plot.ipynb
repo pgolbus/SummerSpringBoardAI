{
 "cells": [
  {
   "cell_type": "code",
   "execution_count": 1,
   "id": "916178cf-2ea0-4d8e-9f44-ee0c0cfb944a",
   "metadata": {},
   "outputs": [],
   "source": [
    "import random\n",
    "\n",
    "import numpy as np"
   ]
  },
  {
   "cell_type": "code",
   "execution_count": 2,
   "id": "c33e0e18-8e42-401d-a276-431dbf5a13d5",
   "metadata": {},
   "outputs": [],
   "source": [
    "def sample_normal_distribution(count, mean=0, std=1):\n",
    "    samples = np.random.normal(loc=mean, scale=std, size=count)\n",
    "    return samples"
   ]
  },
  {
   "cell_type": "code",
   "execution_count": 3,
   "id": "17a5c3c9-8758-499c-8c15-76e437d15fd2",
   "metadata": {},
   "outputs": [],
   "source": [
    "def sample_exponential_distribution(count, scale=1):\n",
    "    samples = np.random.exponential(scale, count)\n",
    "    return samples"
   ]
  },
  {
   "cell_type": "code",
   "execution_count": 4,
   "id": "fd33838b-0924-4e3e-b73f-601ba1dcaa08",
   "metadata": {},
   "outputs": [],
   "source": [
    "fruit = [\"apples\", \"oranges\", \"peaches\", \"bananas\", \"cherries\"]\n",
    "weights = [10, 20, 20, 10, 30]"
   ]
  },
  {
   "cell_type": "code",
   "execution_count": 5,
   "id": "6d1dd73d-9061-402f-8719-08321a4cd8ba",
   "metadata": {},
   "outputs": [],
   "source": [
    "def get_fruit(count):\n",
    "    return random.choices(fruit, weights=weights, k=count)"
   ]
  },
  {
   "cell_type": "code",
   "execution_count": 6,
   "id": "ef63c70e-7f0c-41cd-977c-67a8f03b9775",
   "metadata": {},
   "outputs": [],
   "source": [
    "count = 1000"
   ]
  },
  {
   "cell_type": "code",
   "execution_count": 10,
   "id": "36137395-e9a9-4faf-8b31-e03fb9205d8d",
   "metadata": {},
   "outputs": [],
   "source": [
    "normal = sample_normal_distribution(count)\n",
    "exp = sample_exponential_distribution(count)\n",
    "sine = [np.sin(n/100) for n in range(count)]\n",
    "fruits = get_fruit(count)\n",
    "with open(\"samples.csv\", \"w\") as fh:\n",
    "    fh.write(\"normal,exp,sine,fruit\\n\")\n",
    "    for i in range(count):\n",
    "        fh.write(f\"{normal[i]},{exp[i]},{sine[i]},{fruits[i]}\\n\")"
   ]
  }
 ],
 "metadata": {
  "kernelspec": {
   "display_name": "Python 3 (ipykernel)",
   "language": "python",
   "name": "python3"
  },
  "language_info": {
   "codemirror_mode": {
    "name": "ipython",
    "version": 3
   },
   "file_extension": ".py",
   "mimetype": "text/x-python",
   "name": "python",
   "nbconvert_exporter": "python",
   "pygments_lexer": "ipython3",
   "version": "3.8.0"
  }
 },
 "nbformat": 4,
 "nbformat_minor": 5
}
