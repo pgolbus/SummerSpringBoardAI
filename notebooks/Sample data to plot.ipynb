{
 "cells": [
  {
   "cell_type": "code",
   "execution_count": 1,
   "id": "916178cf-2ea0-4d8e-9f44-ee0c0cfb944a",
   "metadata": {},
   "outputs": [],
   "source": [
    "import random\n",
    "\n",
    "import numpy as np\n",
    "import pandas as pd"
   ]
  },
  {
   "cell_type": "code",
   "execution_count": 2,
   "id": "c33e0e18-8e42-401d-a276-431dbf5a13d5",
   "metadata": {},
   "outputs": [],
   "source": [
    "def sample_normal_distribution(count, mean=0, std=1):\n",
    "    samples = np.random.normal(loc=mean, scale=std, size=count)\n",
    "    return samples"
   ]
  },
  {
   "cell_type": "code",
   "execution_count": 3,
   "id": "17a5c3c9-8758-499c-8c15-76e437d15fd2",
   "metadata": {},
   "outputs": [],
   "source": [
    "def sample_exponential_distribution(count, scale=1):\n",
    "    samples = np.random.exponential(scale, count)\n",
    "    return samples"
   ]
  },
  {
   "cell_type": "code",
   "execution_count": 4,
   "id": "fd33838b-0924-4e3e-b73f-601ba1dcaa08",
   "metadata": {},
   "outputs": [],
   "source": [
    "fruit = [\"apples\", \"oranges\", \"peaches\", \"bananas\", \"cherries\"]\n",
    "weights = [10, 20, 20, 10, 30]"
   ]
  },
  {
   "cell_type": "code",
   "execution_count": 11,
   "id": "6d1dd73d-9061-402f-8719-08321a4cd8ba",
   "metadata": {},
   "outputs": [],
   "source": [
    "def get_fruit(count):\n",
    "    return random.choices(fruit, weights=weights, k=count)"
   ]
  },
  {
   "cell_type": "code",
   "execution_count": 7,
   "id": "36137395-e9a9-4faf-8b31-e03fb9205d8d",
   "metadata": {},
   "outputs": [],
   "source": [
    "def get_sample_df(count):\n",
    "    df = pd.DataFrame({\n",
    "        \"normal\": sample_normal_distribution(count),\n",
    "        \"exp\": sample_exponential_distribution(count),\n",
    "        \"fruit\": get_fruit(count)\n",
    "    })\n",
    "    return df"
   ]
  },
  {
   "cell_type": "code",
   "execution_count": 13,
   "id": "c709755e-48a1-4b62-acb5-4c41efad48f8",
   "metadata": {},
   "outputs": [],
   "source": [
    "df = get_sample_df(1000)\n",
    "df.to_csv(\"samples.csv\")"
   ]
  },
  {
   "cell_type": "code",
   "execution_count": null,
   "id": "7bb86b27-95fa-4680-a604-debc8926e711",
   "metadata": {},
   "outputs": [],
   "source": []
  }
 ],
 "metadata": {
  "kernelspec": {
   "display_name": "Python 3 (ipykernel)",
   "language": "python",
   "name": "python3"
  },
  "language_info": {
   "codemirror_mode": {
    "name": "ipython",
    "version": 3
   },
   "file_extension": ".py",
   "mimetype": "text/x-python",
   "name": "python",
   "nbconvert_exporter": "python",
   "pygments_lexer": "ipython3",
   "version": "3.8.0"
  }
 },
 "nbformat": 4,
 "nbformat_minor": 5
}
