{
 "cells": [
  {
   "cell_type": "markdown",
   "id": "01b181b0-63fa-473e-a643-4c365ec2b637",
   "metadata": {},
   "source": [
    "# Introduction to Pandas\n",
    "\n",
    "Pandas is a software library written for the Python programming language for data manipulation and analysis. In particular, it offers data structures and operations for manipulating numerical tables and time series.\n"
   ]
  },
  {
   "cell_type": "code",
   "execution_count": 17,
   "id": "1c24305d-1b36-4c08-9c36-2256e7ee34e1",
   "metadata": {},
   "outputs": [],
   "source": [
    "import numpy as np\n",
    "import pandas as pd"
   ]
  },
  {
   "cell_type": "markdown",
   "id": "c251a3c1-4231-4d1c-a467-05288be9cea3",
   "metadata": {},
   "source": [
    "## Pandas Data Structures\n",
    "\n",
    "Pandas introduces two new data structures to Python - `Series` and `DataFrame`, both of which are built on top of `NumPy` (this means it's fast).\n",
    "\n",
    "You primarily interact with DataFrames, but it's useful to understand Series as well."
   ]
  },
  {
   "cell_type": "markdown",
   "id": "5922406f-5160-40e3-9bb0-319bc60232d9",
   "metadata": {},
   "source": [
    "### Numpy arrays and ndarrays"
   ]
  },
  {
   "cell_type": "markdown",
   "id": "fe05e24e-2837-463f-a059-98caf80dd6aa",
   "metadata": {},
   "source": [
    "### Series\n",
    "\n",
    "A `Series` is a one-dimensional object similar to an array, list, or column in a table. It will assign a labeled index to each item in the Series. By default, each item will receive an index label from 0 to N, where N is the length of the Series minus one.\n"
   ]
  },
  {
   "cell_type": "code",
   "execution_count": 2,
   "id": "961729b5-700c-4df5-b3d5-6a009cc16a11",
   "metadata": {},
   "outputs": [
    {
     "data": {
      "text/plain": [
       "0    1.0\n",
       "1    3.0\n",
       "2    5.0\n",
       "3    NaN\n",
       "4    6.0\n",
       "5    8.0\n",
       "dtype: float64"
      ]
     },
     "execution_count": 2,
     "metadata": {},
     "output_type": "execute_result"
    }
   ],
   "source": [
    "# Importing numpy\n",
    "import numpy as np\n",
    "\n",
    "# Creating a Series by passing a list of values\n",
    "s = pd.Series([1, 3, 5, np.nan, 6, 8])\n",
    "s\n"
   ]
  },
  {
   "cell_type": "markdown",
   "id": "3de97fdd-6fed-4cd1-8492-b980ad2252de",
   "metadata": {},
   "source": [
    "### DataFrame\n",
    "\n",
    "A `DataFrame` is a two-dimensional table of data with columns that can be of different types (similar to a spreadsheet). It can be thought of as a dictionary of `Series` objects. DataFrames are generally the most commonly used pandas object.\n"
   ]
  },
  {
   "cell_type": "code",
   "execution_count": 3,
   "id": "bca3d5a1-8d38-4e58-8cd1-4d74302e8c36",
   "metadata": {},
   "outputs": [
    {
     "data": {
      "text/html": [
       "<div>\n",
       "<style scoped>\n",
       "    .dataframe tbody tr th:only-of-type {\n",
       "        vertical-align: middle;\n",
       "    }\n",
       "\n",
       "    .dataframe tbody tr th {\n",
       "        vertical-align: top;\n",
       "    }\n",
       "\n",
       "    .dataframe thead th {\n",
       "        text-align: right;\n",
       "    }\n",
       "</style>\n",
       "<table border=\"1\" class=\"dataframe\">\n",
       "  <thead>\n",
       "    <tr style=\"text-align: right;\">\n",
       "      <th></th>\n",
       "      <th>A</th>\n",
       "      <th>B</th>\n",
       "      <th>C</th>\n",
       "      <th>D</th>\n",
       "    </tr>\n",
       "  </thead>\n",
       "  <tbody>\n",
       "    <tr>\n",
       "      <th>2023-01-01</th>\n",
       "      <td>-1.970224</td>\n",
       "      <td>-0.052564</td>\n",
       "      <td>2.362557</td>\n",
       "      <td>-0.063333</td>\n",
       "    </tr>\n",
       "    <tr>\n",
       "      <th>2023-01-02</th>\n",
       "      <td>0.032486</td>\n",
       "      <td>-0.062967</td>\n",
       "      <td>2.810989</td>\n",
       "      <td>2.768199</td>\n",
       "    </tr>\n",
       "    <tr>\n",
       "      <th>2023-01-03</th>\n",
       "      <td>-1.272938</td>\n",
       "      <td>-0.040371</td>\n",
       "      <td>1.460796</td>\n",
       "      <td>0.869516</td>\n",
       "    </tr>\n",
       "    <tr>\n",
       "      <th>2023-01-04</th>\n",
       "      <td>-0.659098</td>\n",
       "      <td>-0.441819</td>\n",
       "      <td>1.586280</td>\n",
       "      <td>-0.223838</td>\n",
       "    </tr>\n",
       "    <tr>\n",
       "      <th>2023-01-05</th>\n",
       "      <td>0.758263</td>\n",
       "      <td>-1.228798</td>\n",
       "      <td>0.917047</td>\n",
       "      <td>-0.189668</td>\n",
       "    </tr>\n",
       "    <tr>\n",
       "      <th>2023-01-06</th>\n",
       "      <td>-0.056239</td>\n",
       "      <td>0.935787</td>\n",
       "      <td>1.001919</td>\n",
       "      <td>0.561253</td>\n",
       "    </tr>\n",
       "  </tbody>\n",
       "</table>\n",
       "</div>"
      ],
      "text/plain": [
       "                   A         B         C         D\n",
       "2023-01-01 -1.970224 -0.052564  2.362557 -0.063333\n",
       "2023-01-02  0.032486 -0.062967  2.810989  2.768199\n",
       "2023-01-03 -1.272938 -0.040371  1.460796  0.869516\n",
       "2023-01-04 -0.659098 -0.441819  1.586280 -0.223838\n",
       "2023-01-05  0.758263 -1.228798  0.917047 -0.189668\n",
       "2023-01-06 -0.056239  0.935787  1.001919  0.561253"
      ]
     },
     "execution_count": 3,
     "metadata": {},
     "output_type": "execute_result"
    }
   ],
   "source": [
    "# Creating a DataFrame by passing a NumPy array, with a datetime index and labeled columns\n",
    "dates = pd.date_range('20230101', periods=6)\n",
    "df = pd.DataFrame(np.random.randn(6, 4), index=dates, columns=list('ABCD'))\n",
    "df\n"
   ]
  },
  {
   "cell_type": "markdown",
   "id": "fa0e67bb-1a86-46d6-bf79-fea4bd655b07",
   "metadata": {},
   "source": [
    "## Viewing Data\n",
    "\n",
    "Pandas provides several methods to view and inspect your data. Here are a few examples:\n"
   ]
  },
  {
   "cell_type": "code",
   "execution_count": 4,
   "id": "e60818dc-54be-4ec2-837c-c8af05b3455a",
   "metadata": {},
   "outputs": [
    {
     "name": "stdout",
     "output_type": "stream",
     "text": [
      "Index(['A', 'B', 'C', 'D'], dtype='object')\n"
     ]
    },
    {
     "data": {
      "text/html": [
       "<div>\n",
       "<style scoped>\n",
       "    .dataframe tbody tr th:only-of-type {\n",
       "        vertical-align: middle;\n",
       "    }\n",
       "\n",
       "    .dataframe tbody tr th {\n",
       "        vertical-align: top;\n",
       "    }\n",
       "\n",
       "    .dataframe thead th {\n",
       "        text-align: right;\n",
       "    }\n",
       "</style>\n",
       "<table border=\"1\" class=\"dataframe\">\n",
       "  <thead>\n",
       "    <tr style=\"text-align: right;\">\n",
       "      <th></th>\n",
       "      <th>A</th>\n",
       "      <th>B</th>\n",
       "      <th>C</th>\n",
       "      <th>D</th>\n",
       "    </tr>\n",
       "  </thead>\n",
       "  <tbody>\n",
       "    <tr>\n",
       "      <th>2023-01-01</th>\n",
       "      <td>-1.970224</td>\n",
       "      <td>-0.052564</td>\n",
       "      <td>2.362557</td>\n",
       "      <td>-0.063333</td>\n",
       "    </tr>\n",
       "    <tr>\n",
       "      <th>2023-01-02</th>\n",
       "      <td>0.032486</td>\n",
       "      <td>-0.062967</td>\n",
       "      <td>2.810989</td>\n",
       "      <td>2.768199</td>\n",
       "    </tr>\n",
       "    <tr>\n",
       "      <th>2023-01-03</th>\n",
       "      <td>-1.272938</td>\n",
       "      <td>-0.040371</td>\n",
       "      <td>1.460796</td>\n",
       "      <td>0.869516</td>\n",
       "    </tr>\n",
       "    <tr>\n",
       "      <th>2023-01-04</th>\n",
       "      <td>-0.659098</td>\n",
       "      <td>-0.441819</td>\n",
       "      <td>1.586280</td>\n",
       "      <td>-0.223838</td>\n",
       "    </tr>\n",
       "    <tr>\n",
       "      <th>2023-01-05</th>\n",
       "      <td>0.758263</td>\n",
       "      <td>-1.228798</td>\n",
       "      <td>0.917047</td>\n",
       "      <td>-0.189668</td>\n",
       "    </tr>\n",
       "  </tbody>\n",
       "</table>\n",
       "</div>"
      ],
      "text/plain": [
       "                   A         B         C         D\n",
       "2023-01-01 -1.970224 -0.052564  2.362557 -0.063333\n",
       "2023-01-02  0.032486 -0.062967  2.810989  2.768199\n",
       "2023-01-03 -1.272938 -0.040371  1.460796  0.869516\n",
       "2023-01-04 -0.659098 -0.441819  1.586280 -0.223838\n",
       "2023-01-05  0.758263 -1.228798  0.917047 -0.189668"
      ]
     },
     "execution_count": 4,
     "metadata": {},
     "output_type": "execute_result"
    }
   ],
   "source": [
    "# Display the columns\n",
    "print(df.columns)\n",
    "# Viewing the top rows of the DataFrame\n",
    "df.head()\n"
   ]
  },
  {
   "cell_type": "markdown",
   "id": "d820fb6e-805f-4c64-9245-0f3e13a27259",
   "metadata": {},
   "source": [
    "## Data Manipulation\n",
    "\n",
    "Pandas provides a wide range of data manipulation methods. Let's explore some of them.\n"
   ]
  },
  {
   "cell_type": "code",
   "execution_count": 8,
   "id": "d153702f-8c28-4a36-b383-21d977fe7efe",
   "metadata": {},
   "outputs": [
    {
     "data": {
      "text/html": [
       "<div>\n",
       "<style scoped>\n",
       "    .dataframe tbody tr th:only-of-type {\n",
       "        vertical-align: middle;\n",
       "    }\n",
       "\n",
       "    .dataframe tbody tr th {\n",
       "        vertical-align: top;\n",
       "    }\n",
       "\n",
       "    .dataframe thead th {\n",
       "        text-align: right;\n",
       "    }\n",
       "</style>\n",
       "<table border=\"1\" class=\"dataframe\">\n",
       "  <thead>\n",
       "    <tr style=\"text-align: right;\">\n",
       "      <th></th>\n",
       "      <th>A</th>\n",
       "      <th>B</th>\n",
       "      <th>C</th>\n",
       "      <th>D</th>\n",
       "    </tr>\n",
       "  </thead>\n",
       "  <tbody>\n",
       "    <tr>\n",
       "      <th>2023-01-05</th>\n",
       "      <td>0.758263</td>\n",
       "      <td>-1.228798</td>\n",
       "      <td>0.917047</td>\n",
       "      <td>-0.189668</td>\n",
       "    </tr>\n",
       "    <tr>\n",
       "      <th>2023-01-04</th>\n",
       "      <td>-0.659098</td>\n",
       "      <td>-0.441819</td>\n",
       "      <td>1.586280</td>\n",
       "      <td>-0.223838</td>\n",
       "    </tr>\n",
       "    <tr>\n",
       "      <th>2023-01-02</th>\n",
       "      <td>0.032486</td>\n",
       "      <td>-0.062967</td>\n",
       "      <td>2.810989</td>\n",
       "      <td>2.768199</td>\n",
       "    </tr>\n",
       "    <tr>\n",
       "      <th>2023-01-01</th>\n",
       "      <td>-1.970224</td>\n",
       "      <td>-0.052564</td>\n",
       "      <td>2.362557</td>\n",
       "      <td>-0.063333</td>\n",
       "    </tr>\n",
       "    <tr>\n",
       "      <th>2023-01-03</th>\n",
       "      <td>-1.272938</td>\n",
       "      <td>-0.040371</td>\n",
       "      <td>1.460796</td>\n",
       "      <td>0.869516</td>\n",
       "    </tr>\n",
       "    <tr>\n",
       "      <th>2023-01-06</th>\n",
       "      <td>-0.056239</td>\n",
       "      <td>0.935787</td>\n",
       "      <td>1.001919</td>\n",
       "      <td>0.561253</td>\n",
       "    </tr>\n",
       "  </tbody>\n",
       "</table>\n",
       "</div>"
      ],
      "text/plain": [
       "                   A         B         C         D\n",
       "2023-01-05  0.758263 -1.228798  0.917047 -0.189668\n",
       "2023-01-04 -0.659098 -0.441819  1.586280 -0.223838\n",
       "2023-01-02  0.032486 -0.062967  2.810989  2.768199\n",
       "2023-01-01 -1.970224 -0.052564  2.362557 -0.063333\n",
       "2023-01-03 -1.272938 -0.040371  1.460796  0.869516\n",
       "2023-01-06 -0.056239  0.935787  1.001919  0.561253"
      ]
     },
     "execution_count": 8,
     "metadata": {},
     "output_type": "execute_result"
    }
   ],
   "source": [
    "# Sorting by values.\n",
    "# Note that this returns a new dataframe rather than sorting it in place. \n",
    "# Returning new dataframers rather than acting on them in place is the default behavior\n",
    "df_sorted = df.sort_values(by='B')\n",
    "df_sorted"
   ]
  },
  {
   "cell_type": "code",
   "execution_count": 13,
   "id": "65d11741-3257-4ed9-a6a0-2f0bca545964",
   "metadata": {},
   "outputs": [
    {
     "name": "stdout",
     "output_type": "stream",
     "text": [
      "                   A         B\n",
      "2023-01-01 -1.970224 -0.052564\n",
      "2023-01-02  0.032486 -0.062967\n",
      "2023-01-03 -1.272938 -0.040371\n",
      "2023-01-04 -0.659098 -0.441819\n",
      "2023-01-05  0.758263 -1.228798\n",
      "2023-01-06 -0.056239  0.935787\n"
     ]
    },
    {
     "data": {
      "text/plain": [
       "2023-01-01   -1.970224\n",
       "2023-01-02    0.032486\n",
       "2023-01-03   -1.272938\n",
       "2023-01-04   -0.659098\n",
       "2023-01-05    0.758263\n",
       "2023-01-06   -0.056239\n",
       "Freq: D, Name: A, dtype: float64"
      ]
     },
     "execution_count": 13,
     "metadata": {},
     "output_type": "execute_result"
    }
   ],
   "source": [
    "# Selecting multiple columns\n",
    "print(df[[\"A\",\"B\"]])\n",
    "# Selecting a single column, which yields a Series\n",
    "df['A']\n",
    "\n"
   ]
  },
  {
   "cell_type": "code",
   "execution_count": 12,
   "id": "18d12eb4-1c8d-4ad5-8aec-fc4f1c8e4773",
   "metadata": {},
   "outputs": [
    {
     "data": {
      "text/html": [
       "<div>\n",
       "<style scoped>\n",
       "    .dataframe tbody tr th:only-of-type {\n",
       "        vertical-align: middle;\n",
       "    }\n",
       "\n",
       "    .dataframe tbody tr th {\n",
       "        vertical-align: top;\n",
       "    }\n",
       "\n",
       "    .dataframe thead th {\n",
       "        text-align: right;\n",
       "    }\n",
       "</style>\n",
       "<table border=\"1\" class=\"dataframe\">\n",
       "  <thead>\n",
       "    <tr style=\"text-align: right;\">\n",
       "      <th></th>\n",
       "      <th>A</th>\n",
       "      <th>B</th>\n",
       "      <th>C</th>\n",
       "      <th>D</th>\n",
       "    </tr>\n",
       "  </thead>\n",
       "  <tbody>\n",
       "    <tr>\n",
       "      <th>2023-01-01</th>\n",
       "      <td>-1.970224</td>\n",
       "      <td>-0.052564</td>\n",
       "      <td>2.362557</td>\n",
       "      <td>-0.063333</td>\n",
       "    </tr>\n",
       "    <tr>\n",
       "      <th>2023-01-02</th>\n",
       "      <td>0.032486</td>\n",
       "      <td>-0.062967</td>\n",
       "      <td>2.810989</td>\n",
       "      <td>2.768199</td>\n",
       "    </tr>\n",
       "  </tbody>\n",
       "</table>\n",
       "</div>"
      ],
      "text/plain": [
       "                   A         B         C         D\n",
       "2023-01-01 -1.970224 -0.052564  2.362557 -0.063333\n",
       "2023-01-02  0.032486 -0.062967  2.810989  2.768199"
      ]
     },
     "execution_count": 12,
     "metadata": {},
     "output_type": "execute_result"
    }
   ],
   "source": [
    "# Selecting via [], which slices the _rows_\n",
    "df[0:2]"
   ]
  },
  {
   "cell_type": "markdown",
   "id": "c3828cbb-a2db-414e-b3fc-eb21fbec2944",
   "metadata": {},
   "source": [
    "## Selection by Position\n",
    "\n",
    "Pandas provides various methods to have purely integer-based indexing. This functionality is provided by the `iloc` accessor.\n"
   ]
  },
  {
   "cell_type": "code",
   "execution_count": 14,
   "id": "617831ee-b94b-4f86-862e-52f01c1ee0e5",
   "metadata": {},
   "outputs": [
    {
     "data": {
      "text/plain": [
       "A   -0.659098\n",
       "B   -0.441819\n",
       "C    1.586280\n",
       "D   -0.223838\n",
       "Name: 2023-01-04 00:00:00, dtype: float64"
      ]
     },
     "execution_count": 14,
     "metadata": {},
     "output_type": "execute_result"
    }
   ],
   "source": [
    "# Select via the position of the passed integers\n",
    "df.iloc[3]\n"
   ]
  },
  {
   "cell_type": "code",
   "execution_count": 15,
   "id": "a1fafa48-c8b8-4465-bba9-676a74bbd5e4",
   "metadata": {},
   "outputs": [
    {
     "data": {
      "text/html": [
       "<div>\n",
       "<style scoped>\n",
       "    .dataframe tbody tr th:only-of-type {\n",
       "        vertical-align: middle;\n",
       "    }\n",
       "\n",
       "    .dataframe tbody tr th {\n",
       "        vertical-align: top;\n",
       "    }\n",
       "\n",
       "    .dataframe thead th {\n",
       "        text-align: right;\n",
       "    }\n",
       "</style>\n",
       "<table border=\"1\" class=\"dataframe\">\n",
       "  <thead>\n",
       "    <tr style=\"text-align: right;\">\n",
       "      <th></th>\n",
       "      <th>A</th>\n",
       "      <th>B</th>\n",
       "    </tr>\n",
       "  </thead>\n",
       "  <tbody>\n",
       "    <tr>\n",
       "      <th>2023-01-04</th>\n",
       "      <td>-0.659098</td>\n",
       "      <td>-0.441819</td>\n",
       "    </tr>\n",
       "    <tr>\n",
       "      <th>2023-01-05</th>\n",
       "      <td>0.758263</td>\n",
       "      <td>-1.228798</td>\n",
       "    </tr>\n",
       "  </tbody>\n",
       "</table>\n",
       "</div>"
      ],
      "text/plain": [
       "                   A         B\n",
       "2023-01-04 -0.659098 -0.441819\n",
       "2023-01-05  0.758263 -1.228798"
      ]
     },
     "execution_count": 15,
     "metadata": {},
     "output_type": "execute_result"
    }
   ],
   "source": [
    "# By integer slices, acting similar to numpy/python\n",
    "df.iloc[3:5, 0:2]\n"
   ]
  },
  {
   "cell_type": "code",
   "execution_count": 16,
   "id": "061d5dbb-c4b4-427e-a393-b0a62cc3c1e9",
   "metadata": {},
   "outputs": [
    {
     "data": {
      "text/html": [
       "<div>\n",
       "<style scoped>\n",
       "    .dataframe tbody tr th:only-of-type {\n",
       "        vertical-align: middle;\n",
       "    }\n",
       "\n",
       "    .dataframe tbody tr th {\n",
       "        vertical-align: top;\n",
       "    }\n",
       "\n",
       "    .dataframe thead th {\n",
       "        text-align: right;\n",
       "    }\n",
       "</style>\n",
       "<table border=\"1\" class=\"dataframe\">\n",
       "  <thead>\n",
       "    <tr style=\"text-align: right;\">\n",
       "      <th></th>\n",
       "      <th>A</th>\n",
       "      <th>C</th>\n",
       "    </tr>\n",
       "  </thead>\n",
       "  <tbody>\n",
       "    <tr>\n",
       "      <th>2023-01-02</th>\n",
       "      <td>0.032486</td>\n",
       "      <td>2.810989</td>\n",
       "    </tr>\n",
       "    <tr>\n",
       "      <th>2023-01-03</th>\n",
       "      <td>-1.272938</td>\n",
       "      <td>1.460796</td>\n",
       "    </tr>\n",
       "    <tr>\n",
       "      <th>2023-01-05</th>\n",
       "      <td>0.758263</td>\n",
       "      <td>0.917047</td>\n",
       "    </tr>\n",
       "  </tbody>\n",
       "</table>\n",
       "</div>"
      ],
      "text/plain": [
       "                   A         C\n",
       "2023-01-02  0.032486  2.810989\n",
       "2023-01-03 -1.272938  1.460796\n",
       "2023-01-05  0.758263  0.917047"
      ]
     },
     "execution_count": 16,
     "metadata": {},
     "output_type": "execute_result"
    }
   ],
   "source": [
    "# By lists of integer position locations, similar to the numpy/python style\n",
    "df.iloc[[1, 2, 4], [0, 2]]\n"
   ]
  },
  {
   "cell_type": "code",
   "execution_count": null,
   "id": "e4bcb4a1-f3ad-4aa1-b0c1-6cc043cc4bc5",
   "metadata": {},
   "outputs": [],
   "source": []
  }
 ],
 "metadata": {
  "kernelspec": {
   "display_name": "Python 3 (ipykernel)",
   "language": "python",
   "name": "python3"
  },
  "language_info": {
   "codemirror_mode": {
    "name": "ipython",
    "version": 3
   },
   "file_extension": ".py",
   "mimetype": "text/x-python",
   "name": "python",
   "nbconvert_exporter": "python",
   "pygments_lexer": "ipython3",
   "version": "3.8.0"
  }
 },
 "nbformat": 4,
 "nbformat_minor": 5
}
