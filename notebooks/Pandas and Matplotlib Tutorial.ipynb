{
 "cells": [
  {
   "cell_type": "markdown",
   "id": "b8463c2b-5ad4-4348-8996-2bc4888e73c7",
   "metadata": {},
   "source": [
    "# Notebooks are made of cells\n",
    "\n",
    "I'll give you my philosophy of notebooks later, but notebooks are designed to be read. As such there are two kinds of cells. Markdown cells and python cells. Let's create a new cell below this one by hitting esc-b"
   ]
  },
  {
   "cell_type": "code",
   "execution_count": null,
   "id": "735d2d73-012c-4865-9b13-fd478ea349f3",
   "metadata": {},
   "outputs": [],
   "source": [
    "# it's a python cell\n",
    "print(\"run me by hitting ctrl-enter\")"
   ]
  },
  {
   "cell_type": "markdown",
   "id": "3e684e2b-1d36-44b4-b901-e3e17b184b57",
   "metadata": {},
   "source": [
    "Markdown cells also get run, i.e. rendered. Run me and go the next cell by hitting shift-enter"
   ]
  },
  {
   "cell_type": "code",
   "execution_count": null,
   "id": "686c52e6-6305-4e83-a05e-f171b258ff2c",
   "metadata": {},
   "outputs": [],
   "source": [
    "x = 5"
   ]
  },
  {
   "cell_type": "markdown",
   "id": "bf6516ed-343c-40f4-bb3b-ff42391bcf20",
   "metadata": {},
   "source": [
    "WEIRD FACT! Notebook state is GLOBAL. Create a cell above me by hitting esc-a and define a value in it. Then create a cell below me and print it."
   ]
  },
  {
   "cell_type": "code",
   "execution_count": 1,
   "id": "ca357ad6-071f-4e8b-9d67-9d2e69c3139e",
   "metadata": {},
   "outputs": [
    {
     "ename": "NameError",
     "evalue": "name 'x' is not defined",
     "output_type": "error",
     "traceback": [
      "\u001b[0;31m---------------------------------------------------------------------------\u001b[0m",
      "\u001b[0;31mNameError\u001b[0m                                 Traceback (most recent call last)",
      "Cell \u001b[0;32mIn[1], line 1\u001b[0m\n\u001b[0;32m----> 1\u001b[0m \u001b[38;5;28mprint\u001b[39m(\u001b[43mx\u001b[49m)\n",
      "\u001b[0;31mNameError\u001b[0m: name 'x' is not defined"
     ]
    }
   ],
   "source": [
    "print(x)"
   ]
  },
  {
   "cell_type": "markdown",
   "id": "1b595dd5-6433-4065-973a-30eaf69a4969",
   "metadata": {},
   "source": [
    "It gets worse! Depending on which cells have been executed and in what order, global state can be pretty unpredictable"
   ]
  },
  {
   "cell_type": "markdown",
   "id": "ab7527f6-87b8-438b-b83f-8dcc8c101c07",
   "metadata": {},
   "source": [
    "# Pandas and Matplotlib Tutorial\n",
    "\n",
    "In this notebook, we will learn how to use pandas to load and manipulate some simple data, and use matplotlib to visualize the contents of a CSV file.\n",
    "\n",
    "## Libraries\n",
    "\n",
    "- **Pandas**: A software library written for the Python programming language for data manipulation and analysis. In particular, it offers data structures and operations for manipulating numerical tables and time series. Note that this is always imported as `pd`.\n",
    "- **Matplotlib**: A plotting library for the Python programming language and its numerical mathematics extension NumPy. It provides an object-oriented API for embedding plots into applications using general-purpose GUI toolkits like Tkinter, wxPython, Qt, or GTK. Note that we actually want to import `matplotlib.pyplot` and this is always imported as `plt`.\n"
   ]
  },
  {
   "cell_type": "code",
   "execution_count": null,
   "id": "ead9969a-fa08-4de4-ae28-0aa10c1e9fd2",
   "metadata": {},
   "outputs": [],
   "source": [
    "# Importing required libraries\n",
    "import numpy as np\n",
    "import pandas as pd\n",
    "import matplotlib.pyplot as plt"
   ]
  },
  {
   "cell_type": "markdown",
   "id": "ffd66640-d9f1-421f-bd7f-a554302f4d58",
   "metadata": {},
   "source": [
    "# Pandas"
   ]
  },
  {
   "cell_type": "markdown",
   "id": "db4958d1-67d2-4908-8b6f-d7a21717185b",
   "metadata": {},
   "source": [
    "## Reading a CSV File using Pandas\n",
    "CSV stands for comma separate value. A CSV file is a way of writing down the _contents_ of a spreadsheet in a way that can be read in any language.\n",
    "\n",
    "\n",
    "Now that we have a CSV file, we can read it using pandas. The `read_csv` function in pandas is used to read CSV file into a new `DataFrame`. Sadly, all dataframes are called `df`. Always give your variables good names. Quick, give me a high level description of the contents of `df`. Now do it again after not having looked at this notebook in six months.\n",
    "\n",
    "Once we have our dataframe, we will call the `head`, `info` and `describe` functions to make sure data has the right shape and looks reasonable statistically. `info` actually prints, rather than returns.\n",
    "\n",
    "You can get the column names using the `columns` property. (There are also `tail` and `sample` functions similar to the `head` function.)\n",
    "\n",
    "Notice that jupyter returns (and prints) the last command in a cell. We want to see the head, so we must print it. Since describe() is last, it will print automatically.\n",
    ".\r\n"
   ]
  },
  {
   "cell_type": "code",
   "execution_count": null,
   "id": "dff6f39e-6c66-4ef2-b255-c3cef78ebdcd",
   "metadata": {},
   "outputs": [],
   "source": [
    "# Reading CSV file\n",
    "df = pd.read_csv('samples.csv')\n",
    "print(\"head\\n\", df.head())\n",
    "print(\"\\n\\ninfo\\n\")\n",
    "df.info()\n",
    "print(\"\\n\\ncolumns\\n\", df.columns)\n",
    "print(\"\\n\\ndescribe\")\n",
    "df.describe()"
   ]
  },
  {
   "cell_type": "markdown",
   "id": "dd9f22bb-f60c-4ee9-adfc-83c98aa67f40",
   "metadata": {},
   "source": [
    "## Manipulating the data\n",
    "\n",
    "In this section we we will select subsets of the data, as well as sort, group and transform it."
   ]
  },
  {
   "cell_type": "markdown",
   "id": "30f0e436-739f-4bc3-a044-df37b13a0bd5",
   "metadata": {},
   "source": [
    "### Selecting subsets of the data\n",
    "\n",
    "In this section we will select rows of the data by index and by value, as well as columns. Note that these methods use `[]` like arrays not `()` like functions."
   ]
  },
  {
   "cell_type": "code",
   "execution_count": null,
   "id": "7e76675e-5aac-4f98-be98-a6a0eafb45ab",
   "metadata": {},
   "outputs": [],
   "source": [
    "# First we select columns by name or by a list of names\n",
    "print(df[\"sine\"].head())\n",
    "df[[\"normal1\",\"normal2\",\"exp\"]].head()"
   ]
  },
  {
   "cell_type": "code",
   "execution_count": null,
   "id": "d8f59d42-d919-4b96-860c-3c8807e24ffb",
   "metadata": {},
   "outputs": [],
   "source": [
    "# We can select rows by row number (index) using iloc\n",
    "print(df[\"sine\"].iloc[3])\n",
    "df.iloc[5:11]"
   ]
  },
  {
   "cell_type": "code",
   "execution_count": null,
   "id": "7d4ac064-576a-4c30-8c0c-8e2b3ba37620",
   "metadata": {},
   "outputs": [],
   "source": [
    "# Next we select rows by value using loc. Note that the geniuses who wrote pandas decided to use the c-style bitwise & and | operators \n",
    "# to mean and and or. (I assume they did that to look like R, but still). Note that it gives me the values and their indices.\n",
    "print(df.loc[df[\"fruit\"] == \"cherries\"][\"fruit\"].count())\n",
    "df.loc[(df[\"normal1\"] >= .99) & (df[\"normal1\"] <= 1.01)] "
   ]
  },
  {
   "cell_type": "markdown",
   "id": "0fcdb87e-75b9-46ed-ace4-7df266932003",
   "metadata": {},
   "source": [
    "### Sorting, grouping and transforming the data\n",
    "\n",
    "In this selection, we describe how to sort, group / aggregate and transform the data."
   ]
  },
  {
   "cell_type": "code",
   "execution_count": null,
   "id": "df14a50c-5483-4593-b9a4-490ee76bd31f",
   "metadata": {},
   "outputs": [],
   "source": [
    "# sort using the sort_values function\n",
    "print(df.sort_values(\"sine\").head())\n",
    "print(\"\\n\")\n",
    "print(df.sort_values([\"fruit\", \"sine\"]).head())"
   ]
  },
  {
   "cell_type": "code",
   "execution_count": null,
   "id": "5e2d36a7-fc5b-4f86-b02a-a7433c28877a",
   "metadata": {},
   "outputs": [],
   "source": [
    "# aggregating is more complicated than this example makes it appear, but you can get really far w/out running\n",
    "# into anything complicated\n",
    "grouped = df.groupby('fruit').mean()\n",
    "grouped"
   ]
  },
  {
   "cell_type": "code",
   "execution_count": null,
   "id": "312bf852-392d-433d-bcaa-26954dd362b7",
   "metadata": {},
   "outputs": [],
   "source": [
    "# Finally we demonstrate creating a new column from an existing column using the map function\n",
    "# Note that map takes a _function_ not a function _call_\n",
    "df['range'] = df['sine'].map(np.arcsin)\n",
    "df.head()"
   ]
  },
  {
   "cell_type": "markdown",
   "id": "250549a0-7b0f-497d-83d4-bb79cdb992d5",
   "metadata": {},
   "source": [
    "## Visualizing the data\n",
    "\n",
    "In this section we will use `matplotlib` to demonstrate some simple plots and charts"
   ]
  },
  {
   "cell_type": "markdown",
   "id": "cc219a13-dc01-4c21-80dc-489debd68c51",
   "metadata": {},
   "source": [
    "### Creating a Line Plot\n",
    "\n",
    "The first thing we are going to do is draw a simple line plot of our sine curve. Notice that we have to call plt.show() to render the plot. If we didn't, since Jupyter prints the last thing returned, we would still get the plot, but also additional information we don't want.\n"
   ]
  },
  {
   "cell_type": "code",
   "execution_count": null,
   "id": "845c1a92-2fd9-42df-93bb-5d647b0b9a37",
   "metadata": {},
   "outputs": [],
   "source": [
    "series = np.arange(0, 100, 0.1)\n",
    "plt.plot(series, np.sin(series))\n",
    "#plt.show()"
   ]
  },
  {
   "cell_type": "markdown",
   "id": "202a5d8f-d7a5-435b-a45f-86ca76a49f25",
   "metadata": {},
   "source": [
    "### Creating a Scatterplot\n",
    "\n",
    "Next we will create a scatter plot to visualize the relationship between two random variables. We do not expect to see much correlation between a normal and an exponential curve, but we whould see a lot of correlation between two normal curves."
   ]
  },
  {
   "cell_type": "code",
   "execution_count": null,
   "id": "69b1e3a1-3669-4ed7-adbc-fd3984957924",
   "metadata": {},
   "outputs": [],
   "source": [
    "# Creating a scatterplot\n",
    "plt.scatter(df['normal1'], df['normal2'])\n",
    "plt.title('Scatterplot of two normal distributions')\n",
    "plt.xlabel('Normal 1')\n",
    "plt.ylabel('Normal 2')\n",
    "plt.show()"
   ]
  },
  {
   "cell_type": "code",
   "execution_count": null,
   "id": "178e02c0-3caa-4190-bde7-72de1bf2709f",
   "metadata": {},
   "outputs": [],
   "source": [
    "# Creating a scatterplot\n",
    "plt.scatter(df['normal1'], df['exp'])\n",
    "plt.title('Scatterplot of a normal distribution against an exponential distribution')\n",
    "plt.xlabel('Normal')\n",
    "plt.ylabel('Exponential')\n",
    "plt.show()"
   ]
  },
  {
   "cell_type": "markdown",
   "id": "b23cd5f5-084b-4e49-b2f0-f002b6b09495",
   "metadata": {},
   "source": [
    "### Histograms\n",
    "\n",
    "Next we will create some simple histograms to visualize our curves and make sure they look like the distribution they were sampled from."
   ]
  },
  {
   "cell_type": "code",
   "execution_count": null,
   "id": "6c5a1c20-cb86-4a52-a03e-839438ddbc29",
   "metadata": {},
   "outputs": [],
   "source": [
    "plt.hist(df['normal1'], bins=20, edgecolor=\"black\")\n",
    "plt.show()"
   ]
  },
  {
   "cell_type": "code",
   "execution_count": null,
   "id": "cf50700d-0eed-46da-87a7-46dea7797e8d",
   "metadata": {},
   "outputs": [],
   "source": [
    "plt.hist(df['exp'], bins=20, edgecolor=\"black\")\n",
    "plt.show()"
   ]
  },
  {
   "cell_type": "markdown",
   "id": "fdcb947b-5680-47db-b8cf-0845825d58bb",
   "metadata": {},
   "source": [
    "### Charts\n",
    "\n",
    "We can also use matplotlib to create simple charts. Note that in this example I am creating subplots. "
   ]
  },
  {
   "cell_type": "code",
   "execution_count": null,
   "id": "903161bc-792a-4021-9022-72ac99404b75",
   "metadata": {},
   "outputs": [],
   "source": [
    "_, axs = plt.subplots(1, 2, figsize=(14, 7))\n",
    "\n",
    "fruit_counts = df[\"fruit\"].value_counts()\n",
    "# Bar chart\n",
    "axs[0].bar(fruit_counts.index, fruit_counts.values, color='skyblue')\n",
    "axs[0].set_title('Fruit Bar Chart')\n",
    "axs[0].set_xlabel('Category')\n",
    "axs[0].set_ylabel('Frequency')\n",
    "\n",
    "# Pie chart\n",
    "axs[1].pie(fruit_counts.values, labels=fruit_counts.index, autopct='%1.1f%%', startangle=90)\n",
    "axs[1].set_title('Fruit Pie Chart')\n",
    "\n",
    "plt.show()"
   ]
  }
 ],
 "metadata": {
  "kernelspec": {
   "display_name": "Python 3 (ipykernel)",
   "language": "python",
   "name": "python3"
  },
  "language_info": {
   "codemirror_mode": {
    "name": "ipython",
    "version": 3
   },
   "file_extension": ".py",
   "mimetype": "text/x-python",
   "name": "python",
   "nbconvert_exporter": "python",
   "pygments_lexer": "ipython3",
   "version": "3.8.0"
  }
 },
 "nbformat": 4,
 "nbformat_minor": 5
}
