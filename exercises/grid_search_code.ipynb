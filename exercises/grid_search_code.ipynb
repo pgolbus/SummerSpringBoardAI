{
 "cells": [
  {
   "cell_type": "code",
   "execution_count": null,
   "id": "f9b7bff9-031f-4207-a2c9-0a23ac5ddeec",
   "metadata": {},
   "outputs": [],
   "source": [
    "# 12. Perform hyperparameter search using cross-validation and grid search\n",
    "# this might take awhile... \n",
    "# If you don't want to wait, you can try a RandomSearchCV or try reducing the number of folds\n",
    "param_grid = {\n",
    "    'n_estimators': [100, 200, 300],\n",
    "    'max_depth': [None, 5, 10],\n",
    "    'min_samples_split': [2, 5, 10]\n",
    "}\n",
    "grid_search = GridSearchCV(estimator=rf_model, param_grid=param_grid, cv=5)\n",
    "grid_search.fit(X_train, y_train)"
   ]
  },
  {
   "cell_type": "code",
   "execution_count": null,
   "id": "ac840cae-02c5-45c3-8d08-6c0de83d2a4f",
   "metadata": {},
   "outputs": [],
   "source": [
    "# 14. Report the best hyperparameters and the corresponding model performance\n",
    "best_params = grid_search.best_params_\n",
    "best_score = grid_search.best_score_\n",
    "print('Best Hyperparameters:', best_params)\n",
    "print('Best Score:', best_score)"
   ]
  }
 ],
 "metadata": {
  "kernelspec": {
   "display_name": "Python 3 (ipykernel)",
   "language": "python",
   "name": "python3"
  },
  "language_info": {
   "codemirror_mode": {
    "name": "ipython",
    "version": 3
   },
   "file_extension": ".py",
   "mimetype": "text/x-python",
   "name": "python",
   "nbconvert_exporter": "python",
   "pygments_lexer": "ipython3",
   "version": "3.8.0"
  }
 },
 "nbformat": 4,
 "nbformat_minor": 5
}
