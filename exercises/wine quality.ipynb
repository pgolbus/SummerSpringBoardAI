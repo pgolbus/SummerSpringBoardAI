{
 "cells": [
  {
   "cell_type": "code",
   "execution_count": null,
   "id": "af45f846-669b-4961-a420-2520558dc150",
   "metadata": {},
   "outputs": [],
   "source": [
    "# Step 1: Load the Wine Quality dataset\n",
    "wine_data = pd.read_csv('wine_quality.csv')"
   ]
  },
  {
   "cell_type": "code",
   "execution_count": null,
   "id": "75db5c8c-97d8-47ac-b27a-ee3623394790",
   "metadata": {},
   "outputs": [],
   "source": [
    "# Step 2: Perform regression on 'quality' column\n",
    "X = wine_data.drop('quality', axis=1)\n",
    "y = wine_data['quality']"
   ]
  },
  {
   "cell_type": "code",
   "execution_count": null,
   "id": "30efe333-05a2-4e35-9d64-6d5c2b5b893f",
   "metadata": {},
   "outputs": [],
   "source": [
    "# Split the data into training and testing sets\n",
    "X_train, X_test, y_train, y_test = train_test_split(X, y, test_size=0.2, random_state=42)"
   ]
  },
  {
   "cell_type": "code",
   "execution_count": null,
   "id": "b0a84019-2c81-4721-a992-edef493cf88e",
   "metadata": {},
   "outputs": [],
   "source": [
    "# Train a regression model\n",
    "regression_model = LinearRegression()\n",
    "regression_model.fit(X_train, y_train)"
   ]
  },
  {
   "cell_type": "code",
   "execution_count": null,
   "id": "6e1e7656-9934-4281-8c95-b932dd037427",
   "metadata": {},
   "outputs": [],
   "source": [
    "# Predict the quality values for the testing set\n",
    "y_pred_regression = regression_model.predict(X_test)"
   ]
  },
  {
   "cell_type": "code",
   "execution_count": null,
   "id": "da59ac28-1eae-4023-9a8a-d7269ecbe1bd",
   "metadata": {},
   "outputs": [],
   "source": [
    "# Calculate the root mean squared error (RMSE)\n",
    "rmse = np.sqrt(mean_squared_error(y_test, y_pred_regression))\n",
    "print(\"Regression RMSE:\", rmse)"
   ]
  },
  {
   "cell_type": "code",
   "execution_count": null,
   "id": "80c8830b-95da-4e61-91b8-1a0d50cf8f91",
   "metadata": {},
   "outputs": [],
   "source": [
    "# Step 3: Bin the quality values into three categories\n",
    "quality_bins = KBinsDiscretizer(n_bins=3, encode='ordinal')\n",
    "y_train_binned = quality_bins.fit_transform(y_train.values.reshape(-1, 1)).flatten()\n",
    "y_test_binned = quality_bins.transform(y_test.values.reshape(-1, 1)).flatten()"
   ]
  },
  {
   "cell_type": "code",
   "execution_count": null,
   "id": "4f83c9e3-a0ad-486d-9abb-09423d5b1768",
   "metadata": {},
   "outputs": [],
   "source": [
    "# Step 4: Train a classifier on the binned quality values\n",
    "classifier = RandomForestClassifier(random_state=42)\n",
    "classifier.fit(X_train, y_train_binned)"
   ]
  },
  {
   "cell_type": "code",
   "execution_count": null,
   "id": "ab2f15a4-39a3-41c7-b52d-145197a08a28",
   "metadata": {},
   "outputs": [],
   "source": [
    "# Predict the binned quality values for the testing set\n",
    "y_pred_classifier = classifier.predict(X_test)"
   ]
  },
  {
   "cell_type": "code",
   "execution_count": null,
   "id": "17edb5c1-c689-4a9c-85bd-44df5960fee7",
   "metadata": {},
   "outputs": [],
   "source": [
    "# Calculate the accuracy of the classifier\n",
    "accuracy = accuracy_score(y_test_binned, y_pred_classifier)\n",
    "print(\"Classifier Accuracy:\", accuracy)"
   ]
  },
  {
   "cell_type": "markdown",
   "id": "2736da13-e03c-4e18-8bbc-9342ac5483a1",
   "metadata": {},
   "source": [
    "That wasn't awesome. Try and make it better.\n",
    "\n",
    "* Do some eda\n",
    "* Do some feature engineering / selection\n",
    "    * Try transforming the features. You could scale them. Take their log. Google for more transforms\n",
    "    * \"Polynomial Features: Generate polynomial features by considering higher-order terms of existing features. This allows the model to capture nonlinear relationships between features and the target variable. Use scikit-learn's PolynomialFeatures transformer to generate polynomial features.\"\n",
    "    * Try interactions. \"For example, you can multiply the alcohol content with acidity or create a feature representing the ratio of volatile acidity to total sulfur dioxide.\"\n",
    "    * Outlier Handling. This dataset might be too nice to have those\n",
    "    * That doesn't apply here, but removing features usually helps. A lot\n",
    "* Try different models\n",
    "    * note we did no regularization\n",
    "* Tune hyperparamters\n",
    "* Are the classes balanced?Cheese"
   ]
  }
 ],
 "metadata": {
  "kernelspec": {
   "display_name": "Python 3 (ipykernel)",
   "language": "python",
   "name": "python3"
  },
  "language_info": {
   "codemirror_mode": {
    "name": "ipython",
    "version": 3
   },
   "file_extension": ".py",
   "mimetype": "text/x-python",
   "name": "python",
   "nbconvert_exporter": "python",
   "pygments_lexer": "ipython3",
   "version": "3.8.0"
  }
 },
 "nbformat": 4,
 "nbformat_minor": 5
}
