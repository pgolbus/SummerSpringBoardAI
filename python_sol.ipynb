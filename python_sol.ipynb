{
 "cells": [
  {
   "cell_type": "code",
   "execution_count": 1,
   "id": "ac465625-e1a3-44b6-b27d-807a7c3ef6a2",
   "metadata": {},
   "outputs": [
    {
     "name": "stdout",
     "output_type": "stream",
     "text": [
      "5\n"
     ]
    }
   ],
   "source": [
    "# define a function that adds two numbers\n",
    "# then call it and print the results\n",
    "def add(x, y):\n",
    "    return x + y\n",
    "print(add(2, 3))"
   ]
  },
  {
   "cell_type": "code",
   "execution_count": 4,
   "id": "8b991f9d-8732-4f8f-87b8-f5f89bc20b79",
   "metadata": {},
   "outputs": [
    {
     "name": "stdout",
     "output_type": "stream",
     "text": [
      "8\n"
     ]
    }
   ],
   "source": [
    "# set x to 3 and y to 5 then create an if statement \n",
    "# if x + y is even and greater than 5, print the result, otherwise print \"no\"\n",
    "x = 3\n",
    "y = 5\n",
    "x_plus_y = add(x, y)\n",
    "if x_plus_y % 2 == 0 and x_plus_y > 5:\n",
    "    print(x_plus_y)\n",
    "else:\n",
    "    print(\"no\")"
   ]
  },
  {
   "cell_type": "code",
   "execution_count": 5,
   "id": "cfe7a2e4-cd90-4ff3-81ad-092e3523d2cc",
   "metadata": {},
   "outputs": [],
   "source": [
    "# define multiplication recursively\n",
    "# the observation is that just like exponents, x * y = x + x * (y - 1)\n",
    "# don't forget the base case! (What happens if you do?)\n",
    "def mult_rec(x, y):\n",
    "    if y == 1:\n",
    "        return x\n",
    "    return x + mult_rec(x, y - 1)"
   ]
  },
  {
   "cell_type": "code",
   "execution_count": 6,
   "id": "f0705382-a4e1-4900-a687-32f997718a2d",
   "metadata": {},
   "outputs": [
    {
     "name": "stdout",
     "output_type": "stream",
     "text": [
      "15\n"
     ]
    }
   ],
   "source": [
    "print(mult_rec(5,3))"
   ]
  },
  {
   "cell_type": "code",
   "execution_count": 8,
   "id": "9dcb1412-a3e5-4381-b448-e48e342bbd1e",
   "metadata": {},
   "outputs": [
    {
     "name": "stdout",
     "output_type": "stream",
     "text": [
      "5050 5050.0\n"
     ]
    }
   ],
   "source": [
    "# Do you know the Gauss sum story? It's a fun one\n",
    "# Sum the first n numbers using an accumulator (a variable named total that you keep adding i to, \"accumulating\" the total)\n",
    "def sumToN(n):\n",
    "    total = 0\n",
    "    for i in range(1, n+1):\n",
    "        total += i\n",
    "    return total\n",
    "\n",
    "# now do it again using Gauss's observation that the sum of the numbers from 1 to n is n(n + 1)/2\n",
    "def sumToNClosed(n):\n",
    "    return n * (n + 1) / 2\n",
    "\n",
    "print(sumToN(100), sumToNClosed(100))"
   ]
  },
  {
   "cell_type": "markdown",
   "id": "cbf9f0c1-c91b-4b28-a4e6-6cdee0847ad6",
   "metadata": {},
   "source": [
    "# Stop here"
   ]
  },
  {
   "cell_type": "code",
   "execution_count": 10,
   "id": "a9bd0004-456d-4162-b1f2-11efe78d4e89",
   "metadata": {},
   "outputs": [
    {
     "name": "stdout",
     "output_type": "stream",
     "text": [
      "5.84\n"
     ]
    }
   ],
   "source": [
    "# This is probably not true\n",
    "sales_tax_rates = {\n",
    "    \"AL\": 4.0,\n",
    "    \"CA\": 7.25,\n",
    "    \"FL\": 6.0,\n",
    "    \"GA\": 4.0,\n",
    "    \"IL\": 6.25,\n",
    "    \"MA\": 6.25,\n",
    "    \"NY\": 4.0,\n",
    "    \"TX\": 6.25,\n",
    "    \"OH\": 5.75,\n",
    "    \"WA\": 6.5,\n",
    "    \"AZ\": 5.6,\n",
    "    \"NH\": 0.0,\n",
    "}\n",
    "\n",
    "# write a function that takes a dollar amount and a state code and returns the post-tax price\n",
    "# use the round(num, decimal_places) function to make it a dollar amount\n",
    "def post_tax(price, state_code):\n",
    "    sales_tax_rate = sales_tax_rates[state_code]/100\n",
    "    post_tax = price + price * sales_tax_rate\n",
    "    return round(post_tax, 2)\n",
    "\n",
    "print(post_tax(5.5, \"MA\"))"
   ]
  },
  {
   "cell_type": "markdown",
   "id": "26edb202-ae46-46fb-98e7-8ee9d1942cad",
   "metadata": {},
   "source": [
    "# Stop here"
   ]
  },
  {
   "cell_type": "code",
   "execution_count": 1,
   "id": "c0e86127-95e0-4bbd-80a4-6d2d007adba9",
   "metadata": {},
   "outputs": [
    {
     "name": "stdout",
     "output_type": "stream",
     "text": [
      "True\n"
     ]
    }
   ],
   "source": [
    "# the following are equivalent\n",
    "\n",
    "output_list1 = []\n",
    "for i in range(5):\n",
    "    output_list1.append(i + 1)\n",
    "\n",
    "output_list2 = [i + 1 for i in range(5)]\n",
    "\n",
    "print(output_list1 == output_list2)"
   ]
  },
  {
   "cell_type": "code",
   "execution_count": 2,
   "id": "7139a6e3-00eb-45c1-908f-79312d599ecb",
   "metadata": {},
   "outputs": [
    {
     "name": "stdout",
     "output_type": "stream",
     "text": [
      "9\n",
      "[1, 9, 25, 49, 81]\n"
     ]
    }
   ],
   "source": [
    "odd_numbers = [1, 3, 5, 7, 9]\n",
    "print(3**2)\n",
    "squared = [num**2 for num in odd_numbers]  # fill in this list comprehension\n",
    "print(squared)"
   ]
  }
 ],
 "metadata": {
  "kernelspec": {
   "display_name": "Python 3 (ipykernel)",
   "language": "python",
   "name": "python3"
  },
  "language_info": {
   "codemirror_mode": {
    "name": "ipython",
    "version": 3
   },
   "file_extension": ".py",
   "mimetype": "text/x-python",
   "name": "python",
   "nbconvert_exporter": "python",
   "pygments_lexer": "ipython3",
   "version": "3.8.0"
  }
 },
 "nbformat": 4,
 "nbformat_minor": 5
}
