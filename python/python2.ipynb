{
 "cells": [
  {
   "cell_type": "markdown",
   "id": "d1f488db-71f9-4581-ac18-eef3f64b9cb7",
   "metadata": {},
   "source": [
    "## Dictionaries"
   ]
  },
  {
   "cell_type": "code",
   "execution_count": null,
   "id": "cc733c98-2399-4df5-b306-e33e443f755c",
   "metadata": {},
   "outputs": [],
   "source": [
    "# this function takes a list and returns a dictionary of the elements and their counts\n",
    "def count_frequency(elements):\n",
    "    frequency = {}\n",
    "    # note since python only does for lists over loops, there is no need to use an index\n",
    "    for element in elements:\n",
    "        # you can check if a key is in a dictionery with \"in\"\n",
    "        # what happens if you just add 1 w/out checking if the key is there?\n",
    "        if element in frequency:\n",
    "            frequency[element] += 1\n",
    "        else:\n",
    "            frequency[element] = 1\n",
    "    return frequency\n",
    "\n",
    "# Example usage\n",
    "elements = [1, 2, 3, 2, 1, 1, 4, 5, 4, 2, 2]\n",
    "result = count_frequency(elements)\n",
    "print(result)"
   ]
  },
  {
   "cell_type": "code",
   "execution_count": null,
   "id": "266626e0-3b34-40cf-a57a-ec98de23e655",
   "metadata": {},
   "outputs": [],
   "source": [
    "# python f-strings allow you to escape out of a string and evaluate python code\n",
    "x = 3\n",
    "y = 5\n",
    "print(f\"{x} + {y} = {x + y}\")"
   ]
  },
  {
   "cell_type": "code",
   "execution_count": null,
   "id": "1e66769e-0d2c-4b6d-9e6b-24edc4cb0520",
   "metadata": {},
   "outputs": [],
   "source": [
    "def calculate_grade(score):\n",
    "    grade_scale = {\n",
    "        'A': 90,\n",
    "        'B': 80,\n",
    "        'C': 70,\n",
    "        'D': 60,\n",
    "        'F': 0\n",
    "    }\n",
    "\n",
    "    # you can get a list of the keys, values or both from a dictionary\n",
    "    # a_dict.keys(), a_dict.values()\n",
    "    # note that this implementation relies on dictionaries knowing what order the keys were created in\n",
    "    # this is only guaranteed to work in Python 3.6+ (We're now on 3.11.something)\n",
    "    for grade, lower_bound in grade_scale.items():\n",
    "        if lower_bound <= score:\n",
    "            return grade\n",
    "\n",
    "    return None\n",
    "\n",
    "# Example usage\n",
    "score = 85\n",
    "\n",
    "grade = calculate_grade(score)\n",
    "if grade is not None:\n",
    "    print(f\"The grade for a score of {score} is {grade}.\")\n",
    "else:\n",
    "    print(\"Invalid score.\")"
   ]
  },
  {
   "cell_type": "code",
   "execution_count": null,
   "id": "18bd0a06-a2ea-4647-83dd-5eb1a7892cc0",
   "metadata": {},
   "outputs": [],
   "source": [
    "# This is probably not true\n",
    "sales_tax_rates = {\n",
    "    \"AL\": 4.0,\n",
    "    \"CA\": 7.25,\n",
    "    \"FL\": 6.0,\n",
    "    \"GA\": 4.0,\n",
    "    \"IL\": 6.25,\n",
    "    \"MA\": 6.25,\n",
    "    \"NY\": 4.0,\n",
    "    \"TX\": 6.25,\n",
    "    \"OH\": 5.75,\n",
    "    \"WA\": 6.5,\n",
    "    \"AZ\": 5.6,\n",
    "    \"NH\": 0.0,\n",
    "}\n",
    "\n",
    "# write a function that takes a dollar amount and a state code and returns the post-tax price\n",
    "# use the round(num, decimal_places) function to make it a dollar amount\n",
    "def post_tax(price, state_code):\n",
    "\n",
    "\n",
    "print(post_tax(5.5, \"MA\"))"
   ]
  },
  {
   "cell_type": "markdown",
   "id": "4604d1d6-ccb0-47a5-89b5-486db70c1ff8",
   "metadata": {},
   "source": [
    "## List comprehensions\n",
    "\n",
    "List comprehensions are a python built-in for creating a new list out of an old list. They are \"syntactic sugar\" as there is nothing you can do w/ list comprehensions that you can't do w/ for loops. They are easier to read (sometimes) and implemented more efficiently"
   ]
  },
  {
   "cell_type": "code",
   "execution_count": null,
   "id": "45874cdd-f787-4025-9e69-262ea1361a2d",
   "metadata": {},
   "outputs": [],
   "source": [
    "# the following are equivalent\n",
    "\n",
    "output_list1 = []\n",
    "for i in range(5):\n",
    "    output_list1.append(i + 1)\n",
    "\n",
    "output_list2 = [i + 1 for i in range(5)]\n",
    "\n",
    "print(output_list1 == output_list2)"
   ]
  },
  {
   "cell_type": "code",
   "execution_count": null,
   "id": "f6b4c127-2e61-46d1-89a4-479ee1eef43e",
   "metadata": {},
   "outputs": [],
   "source": [
    "odd_numbers = [1, 3, 5, 7, 9]\n",
    "print(3**2)\n",
    "squared = []  # fill in this list comprehension\n",
    "print(squared)"
   ]
  },
  {
   "cell_type": "code",
   "execution_count": null,
   "id": "2c0b9cb5-6097-478b-8b0a-9c15460f299e",
   "metadata": {},
   "outputs": [],
   "source": [
    "# you can also generate a list this way w/out even using the input\n",
    "# python uses _ to create a variable w/out bothering to give it a name\n",
    "[\"Hi!\" for _ in range(10)]"
   ]
  },
  {
   "cell_type": "markdown",
   "id": "3306ff68-bf85-4397-83e9-f997aaf2ed9e",
   "metadata": {},
   "source": [
    "## Go look at the matplotlib tutorial in this directory"
   ]
  },
  {
   "cell_type": "code",
   "execution_count": null,
   "id": "4343709f-548e-44cf-ac9f-9357e51d6d84",
   "metadata": {},
   "outputs": [],
   "source": [
    "import numpy as np\n",
    "import matplotlib.pyplot as plt"
   ]
  },
  {
   "cell_type": "code",
   "execution_count": null,
   "id": "aa266166-8374-4c33-b9e5-c6e670396c9e",
   "metadata": {},
   "outputs": [],
   "source": [
    "# The python random module generates pseudo-random numbers\n",
    "# to return a list of random numbers\n",
    "import random\n",
    "print(random.random())"
   ]
  },
  {
   "cell_type": "code",
   "execution_count": null,
   "id": "c77fbd77-e529-4a8d-8605-39e69d0eb321",
   "metadata": {},
   "outputs": [],
   "source": [
    "# Write a function that takes a length as its input, and uses a list comprehension that ignores its input\n",
    "def get_rand(n):\n",
    "\n",
    "\n",
    "# test it by generating a list of 10 numbers\n",
    "# print the list and use np.mean() to print the average\n",
    "rand10 = get_rand(10)\n",
    "print(rand10)\n",
    "np.mean(rand10)"
   ]
  },
  {
   "cell_type": "code",
   "execution_count": null,
   "id": "3ba3d0a9-4e0d-4486-9e89-09ab4d7d395d",
   "metadata": {},
   "outputs": [],
   "source": [
    "# following the example for plotting a sine wave, generate 100 random numbers and plot them against a range from 0 to 10 counting by\n",
    "# counting by 0.1\n",
    "# use plt.xlabel(), plt.ylabel() and plt.title() to give the axes labels and the plot a title\n",
    "rand = get_rand(100)\n",
    "plt.plot(, rand)"
   ]
  },
  {
   "cell_type": "code",
   "execution_count": null,
   "id": "69e29949-3f8a-42f6-91ad-82b8031c7e4e",
   "metadata": {},
   "outputs": [],
   "source": [
    "# Here's two lists of 20 random numbers and a scatter plot\n",
    "# I used the marker and color attributes to make it nifty and gave it a label\n",
    "# https://matplotlib.org/stable/api/markers_api.html\n",
    "# https://matplotlib.org/stable/gallery/color/named_colors.html#base-colors\n",
    "rand1 = get_rand(20)\n",
    "rand2 = get_rand(20)\n",
    "plt.scatter(rand1, rand2, marker=\"+\", color=\"r\", label=\"first one\")"
   ]
  },
  {
   "cell_type": "markdown",
   "id": "cc5b269e-94d8-4546-bf85-3e49f5650c2e",
   "metadata": {},
   "source": [
    "### challenge"
   ]
  },
  {
   "cell_type": "code",
   "execution_count": null,
   "id": "18602dac-1225-47c0-b131-5806e26b335b",
   "metadata": {},
   "outputs": [],
   "source": [
    "# the random.choices(a_list, k=n) function will give you n elements chosen from a list at random. n can be larger than the length of the list\n",
    "# create a list of fruit and sample 100 fruit from it\n",
    "print(fruit_sample[:10])\n",
    "\n",
    "rand = get_rand(100)\n",
    "\n",
    "# observe that in the bar chart / pie chart example, df[].value_counts() does the same thing as our count_frequency\n",
    "# starting with the bar chart example, do a pie chart and bar chart of the sample\n",
    "\n",
    "# notice that we have subplots(1, 2) which gives us a list of two axs \n",
    "# change that to subplots(2,2) and you will get a list of lists of two axs\n",
    "# grab a big list of random numbers and add a boxplot and violinplot in the second row\n",
    "\n",
    "# Bar chart\n",
    "axs[0][0].bar(fruit_counts.keys(), fruit_counts.values(), color='skyblue')\n",
    "# notice that with plots you call title() and with axs you call set_title()\n",
    "# that trips me up every time\n",
    "axs[0][0].set_title('Fruit Bar Chart')\n",
    "axs[0][0].set_xlabel('Category')\n",
    "axs[0][0].set_ylabel('Frequency')\n",
    "\n",
    "# Pie chart\n",
    "\n",
    "# boxplot"
   ]
  }
 ],
 "metadata": {
  "kernelspec": {
   "display_name": "Python 3 (ipykernel)",
   "language": "python",
   "name": "python3"
  },
  "language_info": {
   "codemirror_mode": {
    "name": "ipython",
    "version": 3
   },
   "file_extension": ".py",
   "mimetype": "text/x-python",
   "name": "python",
   "nbconvert_exporter": "python",
   "pygments_lexer": "ipython3",
   "version": "3.8.0"
  }
 },
 "nbformat": 4,
 "nbformat_minor": 5
}
