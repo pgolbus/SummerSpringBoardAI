{
 "cells": [
  {
   "cell_type": "code",
   "execution_count": null,
   "id": "105df6b0-9bfa-45a3-b09b-fe3e3e921af7",
   "metadata": {},
   "outputs": [],
   "source": [
    "# These are the packages we need to handle the data and classification.\n",
    "from sklearn.tree import DecisionTreeClassifier\n",
    "from sklearn import tree\n",
    "from sklearn.datasets import load_iris"
   ]
  },
  {
   "cell_type": "code",
   "execution_count": null,
   "id": "9344d6b8-a006-46b5-9485-b063d6cb4b7e",
   "metadata": {},
   "outputs": [],
   "source": [
    "# new import from last time\n",
    "from sklearn.model_selection import train_test_split"
   ]
  },
  {
   "cell_type": "code",
   "execution_count": null,
   "id": "8223f6f3-f052-4c69-91e2-d293115ca489",
   "metadata": {},
   "outputs": [],
   "source": [
    "# These are the packages we will use to understand our results. Note that we import pyplot from matplotlib as plt and seaborn as sns\n",
    "from IPython.display import Image\n",
    "import matplotlib.pyplot as plt\n",
    "import seaborn as sns\n",
    "from sklearn.metrics import accuracy_score, confusion_matrix"
   ]
  },
  {
   "cell_type": "markdown",
   "id": "5be5af1a-7e26-4696-9a68-a2deabedbab4",
   "metadata": {},
   "source": [
    "# Decision Tree Tutorial\n",
    "\n",
    "### Now with holdout data\n",
    "\n",
    "Last time, we used the same data for training and testing. Our model was able to simply memorize the correct answer.\n",
    "\n",
    "This time, we first hold out some data to specifically use for testing. We are however, still skipping all the steps and going straight to the end."
   ]
  },
  {
   "cell_type": "code",
   "execution_count": null,
   "id": "69523a92-f7df-4159-b490-dc10116f262a",
   "metadata": {},
   "outputs": [],
   "source": [
    "Image(filename=\"iris dataset.png\")"
   ]
  },
  {
   "cell_type": "markdown",
   "id": "eabfc1b9-f1b3-4207-8dc4-27153f87ddd1",
   "metadata": {},
   "source": [
    "## Building the Decision Tree Model\n",
    "We will now build our decision tree model by loading our data, *splitting it*, and then constructing a model and calling its `fit` function."
   ]
  },
  {
   "cell_type": "code",
   "execution_count": null,
   "id": "6e7c5daa-3546-4f74-b5fd-07a333ae858a",
   "metadata": {},
   "outputs": [],
   "source": [
    "iris = load_iris()\n",
    "X_train, X_test, y_train, y_test = train_test_split(iris.data, iris.target, random_state=0)"
   ]
  },
  {
   "cell_type": "code",
   "execution_count": null,
   "id": "232296ad-a654-48ae-ae87-730d0c2a2886",
   "metadata": {},
   "outputs": [],
   "source": [
    "clf = DecisionTreeClassifier(max_depth = 2)\n",
    "clf.fit(X_train, y_train)"
   ]
  },
  {
   "cell_type": "markdown",
   "id": "d26a82c7-93b3-4dc8-9d5a-ba8706f15798",
   "metadata": {},
   "source": [
    "## ~~Making Predictions~~ Evaulating our model\n",
    "\n",
    "Now that we have trained our model, let's ~~look at its predictions~~ evaluate it on our holdout data and see how well we did.\n"
   ]
  },
  {
   "cell_type": "code",
   "execution_count": null,
   "id": "3e929ae0-6473-4f54-8865-727811fb839a",
   "metadata": {},
   "outputs": [],
   "source": [
    "# make predictions\n",
    "# we display them to make sure they \n",
    "pred = clf.predict(X_test)\n",
    "pred"
   ]
  },
  {
   "cell_type": "code",
   "execution_count": null,
   "id": "97c7cf31-2624-4440-b947-ca70ea1527a4",
   "metadata": {},
   "outputs": [],
   "source": [
    "accuracy = accuracy_score(y_test, pred)\n",
    "accuracy"
   ]
  },
  {
   "cell_type": "code",
   "execution_count": null,
   "id": "d001487d-c172-4f41-8d7b-e6164e20fc35",
   "metadata": {},
   "outputs": [],
   "source": [
    "cm = confusion_matrix(y_test, pred)\n",
    "\n",
    "# Create a heatmap\n",
    "plt.figure(figsize=(10,7))\n",
    "sns.heatmap(cm, annot=True, fmt='d')\n",
    "plt.xlabel('Predicted')\n",
    "plt.ylabel('Truth')\n",
    "plt.show()"
   ]
  },
  {
   "cell_type": "markdown",
   "id": "01eb967e-5502-4639-9f55-ea752dfbb654",
   "metadata": {},
   "source": [
    "## It's still really, really good, but it's no longer perfect"
   ]
  }
 ],
 "metadata": {
  "kernelspec": {
   "display_name": "Python 3 (ipykernel)",
   "language": "python",
   "name": "python3"
  },
  "language_info": {
   "codemirror_mode": {
    "name": "ipython",
    "version": 3
   },
   "file_extension": ".py",
   "mimetype": "text/x-python",
   "name": "python",
   "nbconvert_exporter": "python",
   "pygments_lexer": "ipython3",
   "version": "3.8.0"
  }
 },
 "nbformat": 4,
 "nbformat_minor": 5
}
