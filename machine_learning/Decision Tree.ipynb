{
 "cells": [
  {
   "cell_type": "code",
   "execution_count": null,
   "id": "105df6b0-9bfa-45a3-b09b-fe3e3e921af7",
   "metadata": {},
   "outputs": [],
   "source": [
    "# These are the packages we need to handle the data and classification.\n",
    "from sklearn.tree import DecisionTreeClassifier\n",
    "from sklearn import tree\n",
    "from sklearn.datasets import load_iris"
   ]
  },
  {
   "cell_type": "code",
   "execution_count": null,
   "id": "8223f6f3-f052-4c69-91e2-d293115ca489",
   "metadata": {},
   "outputs": [],
   "source": [
    "# These are the packages we will use to understand our results. Note that we import pyplot from matplotlib as plt and seaborn as sns\n",
    "from IPython.display import Image\n",
    "import matplotlib.pyplot as plt\n",
    "import seaborn as sns\n",
    "from sklearn.metrics import accuracy_score, confusion_matrix"
   ]
  },
  {
   "cell_type": "markdown",
   "id": "5be5af1a-7e26-4696-9a68-a2deabedbab4",
   "metadata": {},
   "source": [
    "# Decision Tree Tutorial\n",
    "\n",
    "In this tutorial, we will be going through a simple example of how to create a decision tree model using the Scikit-learn library in Python. Decision trees are a type of model used for both classification and regression tasks. They are called decision trees because they make decisions by splitting data into subsets based on feature values, which can be visualized as a tree structure.\n",
    "\n",
    "We will be using the Iris dataset for this tutorial, which is a multivariate data set introduced by the British statistician and biologist Ronald Fisher in his 1936 paper. The data set consists of 50 samples from each of three species of Iris (Iris setosa, Iris virginica, and Iris versicolor). Four features were measured from each sample: the lengths and the widths of the sepals and petals, in centimeters.\n",
    "\n",
    "### N.B. We will be skipping straight to the end of the model training process in order to better focus on one concept at time.\n",
    "## We are also making a huge mistake on purpose!"
   ]
  },
  {
   "cell_type": "code",
   "execution_count": null,
   "id": "69523a92-f7df-4159-b490-dc10116f262a",
   "metadata": {},
   "outputs": [],
   "source": [
    "Image(filename=\"iris dataset.png\")"
   ]
  },
  {
   "cell_type": "markdown",
   "id": "eabfc1b9-f1b3-4207-8dc4-27153f87ddd1",
   "metadata": {},
   "source": [
    "## Building the Decision Tree Model\n",
    "### N.B. not only are we skipping straight to the end, we are skipping an astonishingly important step here.\n",
    "We will now build our decision tree model by loading our data, constructing a model and calling its `fit` function. This is the standard interface for all sklearn models.\n",
    "\n",
    "We will be passing one argument into the decision tree which is to set the maximum depth to 2, meaning we will have four split points."
   ]
  },
  {
   "cell_type": "code",
   "execution_count": null,
   "id": "6e7c5daa-3546-4f74-b5fd-07a333ae858a",
   "metadata": {},
   "outputs": [],
   "source": [
    "iris = load_iris()\n",
    "clf = DecisionTreeClassifier(max_depth = 2)\n",
    "clf.fit(iris.data, iris.target)"
   ]
  },
  {
   "cell_type": "markdown",
   "id": "d26a82c7-93b3-4dc8-9d5a-ba8706f15798",
   "metadata": {},
   "source": [
    "## Making Predictions\n",
    "\n",
    "Now that we have trained our model, let's look at its predictions and see how well we did.\n"
   ]
  },
  {
   "cell_type": "code",
   "execution_count": null,
   "id": "3e929ae0-6473-4f54-8865-727811fb839a",
   "metadata": {},
   "outputs": [],
   "source": [
    "# make predictions\n",
    "# we display them basically to make sure they exist\n",
    "pred = clf.predict(iris.data)\n",
    "pred"
   ]
  },
  {
   "cell_type": "code",
   "execution_count": null,
   "id": "97c7cf31-2624-4440-b947-ca70ea1527a4",
   "metadata": {},
   "outputs": [],
   "source": [
    "accuracy = accuracy_score(iris.target, pred)\n",
    "accuracy"
   ]
  },
  {
   "cell_type": "code",
   "execution_count": null,
   "id": "d001487d-c172-4f41-8d7b-e6164e20fc35",
   "metadata": {},
   "outputs": [],
   "source": [
    "cm = confusion_matrix(iris.target, pred)\n",
    "\n",
    "# Create a heatmap\n",
    "plt.figure(figsize=(10,7))\n",
    "sns.heatmap(cm, annot=True, fmt='d')\n",
    "plt.xlabel('Predicted')\n",
    "plt.ylabel('Truth')\n",
    "plt.show()"
   ]
  },
  {
   "cell_type": "markdown",
   "id": "01eb967e-5502-4639-9f55-ea752dfbb654",
   "metadata": {},
   "source": [
    "# Why are our predictions perfect?\n",
    "\n",
    "Let's head back to the slides to discuss this further"
   ]
  }
 ],
 "metadata": {
  "kernelspec": {
   "display_name": "Python 3 (ipykernel)",
   "language": "python",
   "name": "python3"
  },
  "language_info": {
   "codemirror_mode": {
    "name": "ipython",
    "version": 3
   },
   "file_extension": ".py",
   "mimetype": "text/x-python",
   "name": "python",
   "nbconvert_exporter": "python",
   "pygments_lexer": "ipython3",
   "version": "3.8.0"
  }
 },
 "nbformat": 4,
 "nbformat_minor": 5
}
